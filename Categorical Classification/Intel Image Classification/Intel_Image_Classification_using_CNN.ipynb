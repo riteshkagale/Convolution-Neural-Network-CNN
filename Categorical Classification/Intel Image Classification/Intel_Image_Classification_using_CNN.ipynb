{
 "cells": [
  {
   "cell_type": "markdown",
   "metadata": {
    "id": "EMefrVPCg-60"
   },
   "source": [
    "### Importing the libraries"
   ]
  },
  {
   "cell_type": "code",
   "execution_count": 1,
   "metadata": {
    "executionInfo": {
     "elapsed": 3724,
     "status": "ok",
     "timestamp": 1645505156126,
     "user": {
      "displayName": "ritesh kagale",
      "photoUrl": "https://lh3.googleusercontent.com/a-/AOh14GiUE0PpLBQEM5krVmODNfA-dkFMCloyFDWUW4oxlw=s64",
      "userId": "13718708720698209660"
     },
     "user_tz": -330
    },
    "id": "sCV30xyVhFbE"
   },
   "outputs": [],
   "source": [
    "import tensorflow as tf\n",
    "from keras.preprocessing.image import ImageDataGenerator"
   ]
  },
  {
   "cell_type": "code",
   "execution_count": 2,
   "metadata": {
    "colab": {
     "base_uri": "https://localhost:8080/",
     "height": 35
    },
    "executionInfo": {
     "elapsed": 621,
     "status": "ok",
     "timestamp": 1645505466656,
     "user": {
      "displayName": "ritesh kagale",
      "photoUrl": "https://lh3.googleusercontent.com/a-/AOh14GiUE0PpLBQEM5krVmODNfA-dkFMCloyFDWUW4oxlw=s64",
      "userId": "13718708720698209660"
     },
     "user_tz": -330
    },
    "id": "FIleuCAjoFD8",
    "outputId": "28c95818-72c1-4a8c-d3e2-d5401b75db33"
   },
   "outputs": [
    {
     "data": {
      "text/plain": [
       "'2.8.0'"
      ]
     },
     "execution_count": 2,
     "metadata": {},
     "output_type": "execute_result"
    }
   ],
   "source": [
    "tf.__version__"
   ]
  },
  {
   "cell_type": "markdown",
   "metadata": {
    "id": "oxQxCBWyoGPE"
   },
   "source": [
    "## Part 1 - Data Preprocessing"
   ]
  },
  {
   "cell_type": "markdown",
   "metadata": {
    "id": "MvE-heJNo3GG"
   },
   "source": [
    "### Preprocessing the Training set"
   ]
  },
  {
   "cell_type": "code",
   "execution_count": 7,
   "metadata": {
    "colab": {
     "base_uri": "https://localhost:8080/"
    },
    "executionInfo": {
     "elapsed": 7110,
     "status": "ok",
     "timestamp": 1645505532503,
     "user": {
      "displayName": "ritesh kagale",
      "photoUrl": "https://lh3.googleusercontent.com/a-/AOh14GiUE0PpLBQEM5krVmODNfA-dkFMCloyFDWUW4oxlw=s64",
      "userId": "13718708720698209660"
     },
     "user_tz": -330
    },
    "id": "0koUcJMJpEBD",
    "outputId": "3935e541-ee30-494f-9b5d-6bd395a9a66c"
   },
   "outputs": [
    {
     "name": "stdout",
     "output_type": "stream",
     "text": [
      "Found 14034 images belonging to 6 classes.\n"
     ]
    }
   ],
   "source": [
    "train_datagen = ImageDataGenerator(rescale = 1./255,\n",
    "                                   shear_range = 0.2,\n",
    "                                   zoom_range = 0.2,\n",
    "                                   horizontal_flip = True)\n",
    "training_set = train_datagen.flow_from_directory('F:/study matrials/2022/Convolution Neural Network/CNN Projects/CNN Categorical Classification/Intel Image Classification/dataset/seg_train/seg_train/',\n",
    "                                                 target_size = (64, 64),\n",
    "                                                 batch_size = 32,\n",
    "                                                 class_mode = 'categorical')"
   ]
  },
  {
   "cell_type": "markdown",
   "metadata": {
    "id": "mrCMmGw9pHys"
   },
   "source": [
    "### Preprocessing the Test set"
   ]
  },
  {
   "cell_type": "code",
   "execution_count": 8,
   "metadata": {
    "colab": {
     "base_uri": "https://localhost:8080/"
    },
    "executionInfo": {
     "elapsed": 1078,
     "status": "ok",
     "timestamp": 1645505537403,
     "user": {
      "displayName": "ritesh kagale",
      "photoUrl": "https://lh3.googleusercontent.com/a-/AOh14GiUE0PpLBQEM5krVmODNfA-dkFMCloyFDWUW4oxlw=s64",
      "userId": "13718708720698209660"
     },
     "user_tz": -330
    },
    "id": "SH4WzfOhpKc3",
    "outputId": "fb1db9e2-773d-40e2-bf8e-83fe1b4cf3ce"
   },
   "outputs": [
    {
     "name": "stdout",
     "output_type": "stream",
     "text": [
      "Found 3000 images belonging to 6 classes.\n"
     ]
    }
   ],
   "source": [
    "test_datagen = ImageDataGenerator(rescale = 1./255)\n",
    "test_set = test_datagen.flow_from_directory('F:/study matrials/2022/Convolution Neural Network/CNN Projects/CNN Categorical Classification/Intel Image Classification/dataset/seg_test/seg_test',\n",
    "                                            target_size = (64, 64),\n",
    "                                            batch_size = 32,\n",
    "                                            class_mode = 'categorical')"
   ]
  },
  {
   "cell_type": "code",
   "execution_count": 9,
   "metadata": {
    "colab": {
     "base_uri": "https://localhost:8080/"
    },
    "executionInfo": {
     "elapsed": 11,
     "status": "ok",
     "timestamp": 1645505540328,
     "user": {
      "displayName": "ritesh kagale",
      "photoUrl": "https://lh3.googleusercontent.com/a-/AOh14GiUE0PpLBQEM5krVmODNfA-dkFMCloyFDWUW4oxlw=s64",
      "userId": "13718708720698209660"
     },
     "user_tz": -330
    },
    "id": "UQByvFwXqedR",
    "outputId": "d4f6a3af-f521-49d8-a271-8608f93a497a"
   },
   "outputs": [
    {
     "data": {
      "text/plain": [
       "{'buildings': 0,\n",
       " 'forest': 1,\n",
       " 'glacier': 2,\n",
       " 'mountain': 3,\n",
       " 'sea': 4,\n",
       " 'street': 5}"
      ]
     },
     "execution_count": 9,
     "metadata": {},
     "output_type": "execute_result"
    }
   ],
   "source": [
    "training_set.class_indices"
   ]
  },
  {
   "cell_type": "markdown",
   "metadata": {
    "id": "af8O4l90gk7B"
   },
   "source": [
    "## Part 2 - Building the CNN"
   ]
  },
  {
   "cell_type": "markdown",
   "metadata": {
    "id": "ces1gXY2lmoX"
   },
   "source": [
    "### Initialising the CNN"
   ]
  },
  {
   "cell_type": "code",
   "execution_count": 10,
   "metadata": {
    "executionInfo": {
     "elapsed": 364,
     "status": "ok",
     "timestamp": 1645511825412,
     "user": {
      "displayName": "ritesh kagale",
      "photoUrl": "https://lh3.googleusercontent.com/a-/AOh14GiUE0PpLBQEM5krVmODNfA-dkFMCloyFDWUW4oxlw=s64",
      "userId": "13718708720698209660"
     },
     "user_tz": -330
    },
    "id": "SAUt4UMPlhLS"
   },
   "outputs": [],
   "source": [
    "cnn = tf.keras.models.Sequential()"
   ]
  },
  {
   "cell_type": "code",
   "execution_count": 11,
   "metadata": {
    "executionInfo": {
     "elapsed": 3,
     "status": "ok",
     "timestamp": 1645511827138,
     "user": {
      "displayName": "ritesh kagale",
      "photoUrl": "https://lh3.googleusercontent.com/a-/AOh14GiUE0PpLBQEM5krVmODNfA-dkFMCloyFDWUW4oxlw=s64",
      "userId": "13718708720698209660"
     },
     "user_tz": -330
    },
    "id": "XPzPrMckl-hV"
   },
   "outputs": [],
   "source": [
    "cnn.add(tf.keras.layers.Conv2D(filters=32, kernel_size=3, activation='relu', input_shape=[64, 64, 3]))"
   ]
  },
  {
   "cell_type": "code",
   "execution_count": 12,
   "metadata": {
    "executionInfo": {
     "elapsed": 4,
     "status": "ok",
     "timestamp": 1645511829302,
     "user": {
      "displayName": "ritesh kagale",
      "photoUrl": "https://lh3.googleusercontent.com/a-/AOh14GiUE0PpLBQEM5krVmODNfA-dkFMCloyFDWUW4oxlw=s64",
      "userId": "13718708720698209660"
     },
     "user_tz": -330
    },
    "id": "ncpqPl69mOac"
   },
   "outputs": [],
   "source": [
    "cnn.add(tf.keras.layers.MaxPool2D(pool_size=2))"
   ]
  },
  {
   "cell_type": "code",
   "execution_count": 13,
   "metadata": {
    "executionInfo": {
     "elapsed": 3,
     "status": "ok",
     "timestamp": 1645511830949,
     "user": {
      "displayName": "ritesh kagale",
      "photoUrl": "https://lh3.googleusercontent.com/a-/AOh14GiUE0PpLBQEM5krVmODNfA-dkFMCloyFDWUW4oxlw=s64",
      "userId": "13718708720698209660"
     },
     "user_tz": -330
    },
    "id": "i_-FZjn_m8gk"
   },
   "outputs": [],
   "source": [
    "cnn.add(tf.keras.layers.Conv2D(filters=32, kernel_size=3, activation='relu'))\n",
    "cnn.add(tf.keras.layers.MaxPool2D(pool_size=2))"
   ]
  },
  {
   "cell_type": "code",
   "execution_count": 14,
   "metadata": {
    "executionInfo": {
     "elapsed": 3,
     "status": "ok",
     "timestamp": 1645511836104,
     "user": {
      "displayName": "ritesh kagale",
      "photoUrl": "https://lh3.googleusercontent.com/a-/AOh14GiUE0PpLBQEM5krVmODNfA-dkFMCloyFDWUW4oxlw=s64",
      "userId": "13718708720698209660"
     },
     "user_tz": -330
    },
    "id": "6AZeOGCvnNZn"
   },
   "outputs": [],
   "source": [
    "cnn.add(tf.keras.layers.Flatten())"
   ]
  },
  {
   "cell_type": "code",
   "execution_count": 15,
   "metadata": {
    "executionInfo": {
     "elapsed": 2,
     "status": "ok",
     "timestamp": 1645511837693,
     "user": {
      "displayName": "ritesh kagale",
      "photoUrl": "https://lh3.googleusercontent.com/a-/AOh14GiUE0PpLBQEM5krVmODNfA-dkFMCloyFDWUW4oxlw=s64",
      "userId": "13718708720698209660"
     },
     "user_tz": -330
    },
    "id": "8GtmUlLd26Nq"
   },
   "outputs": [],
   "source": [
    "cnn.add(tf.keras.layers.Dense(units=512, activation='relu'))"
   ]
  },
  {
   "cell_type": "code",
   "execution_count": 16,
   "metadata": {
    "executionInfo": {
     "elapsed": 2,
     "status": "ok",
     "timestamp": 1645511839145,
     "user": {
      "displayName": "ritesh kagale",
      "photoUrl": "https://lh3.googleusercontent.com/a-/AOh14GiUE0PpLBQEM5krVmODNfA-dkFMCloyFDWUW4oxlw=s64",
      "userId": "13718708720698209660"
     },
     "user_tz": -330
    },
    "id": "ax3CelvYgLdM"
   },
   "outputs": [],
   "source": [
    "cnn.add(tf.keras.layers.Dropout(rate=0.5))"
   ]
  },
  {
   "cell_type": "code",
   "execution_count": 17,
   "metadata": {
    "executionInfo": {
     "elapsed": 4,
     "status": "ok",
     "timestamp": 1645511840946,
     "user": {
      "displayName": "ritesh kagale",
      "photoUrl": "https://lh3.googleusercontent.com/a-/AOh14GiUE0PpLBQEM5krVmODNfA-dkFMCloyFDWUW4oxlw=s64",
      "userId": "13718708720698209660"
     },
     "user_tz": -330
    },
    "id": "UkN7XT-PgF4I"
   },
   "outputs": [],
   "source": [
    "cnn.add(tf.keras.layers.Dense(units=128, activation='relu'))"
   ]
  },
  {
   "cell_type": "code",
   "execution_count": 18,
   "metadata": {
    "executionInfo": {
     "elapsed": 4,
     "status": "ok",
     "timestamp": 1645511841947,
     "user": {
      "displayName": "ritesh kagale",
      "photoUrl": "https://lh3.googleusercontent.com/a-/AOh14GiUE0PpLBQEM5krVmODNfA-dkFMCloyFDWUW4oxlw=s64",
      "userId": "13718708720698209660"
     },
     "user_tz": -330
    },
    "id": "1p_Zj1Mc3Ko_"
   },
   "outputs": [],
   "source": [
    "cnn.add(tf.keras.layers.Dense(units=6, activation='softmax'))"
   ]
  },
  {
   "cell_type": "markdown",
   "metadata": {
    "id": "D6XkI90snSDl"
   },
   "source": [
    "## Part 3 - Training the CNN"
   ]
  },
  {
   "cell_type": "markdown",
   "metadata": {
    "id": "vfrFQACEnc6i"
   },
   "source": [
    "### Compiling the CNN"
   ]
  },
  {
   "cell_type": "code",
   "execution_count": 19,
   "metadata": {
    "executionInfo": {
     "elapsed": 365,
     "status": "ok",
     "timestamp": 1645511843988,
     "user": {
      "displayName": "ritesh kagale",
      "photoUrl": "https://lh3.googleusercontent.com/a-/AOh14GiUE0PpLBQEM5krVmODNfA-dkFMCloyFDWUW4oxlw=s64",
      "userId": "13718708720698209660"
     },
     "user_tz": -330
    },
    "id": "NALksrNQpUlJ"
   },
   "outputs": [],
   "source": [
    "cnn.compile(optimizer = 'adam', loss = 'categorical_crossentropy', metrics = ['accuracy'])"
   ]
  },
  {
   "cell_type": "code",
   "execution_count": 20,
   "metadata": {
    "colab": {
     "base_uri": "https://localhost:8080/"
    },
    "executionInfo": {
     "elapsed": 33,
     "status": "ok",
     "timestamp": 1645511845553,
     "user": {
      "displayName": "ritesh kagale",
      "photoUrl": "https://lh3.googleusercontent.com/a-/AOh14GiUE0PpLBQEM5krVmODNfA-dkFMCloyFDWUW4oxlw=s64",
      "userId": "13718708720698209660"
     },
     "user_tz": -330
    },
    "id": "1VguFIo-zqf5",
    "outputId": "4a12a569-58e8-46c2-caf0-3226fa5c9b12"
   },
   "outputs": [
    {
     "name": "stdout",
     "output_type": "stream",
     "text": [
      "Model: \"sequential\"\n",
      "_________________________________________________________________\n",
      " Layer (type)                Output Shape              Param #   \n",
      "=================================================================\n",
      " conv2d (Conv2D)             (None, 62, 62, 32)        896       \n",
      "                                                                 \n",
      " max_pooling2d (MaxPooling2D  (None, 31, 31, 32)       0         \n",
      " )                                                               \n",
      "                                                                 \n",
      " conv2d_1 (Conv2D)           (None, 29, 29, 32)        9248      \n",
      "                                                                 \n",
      " max_pooling2d_1 (MaxPooling  (None, 14, 14, 32)       0         \n",
      " 2D)                                                             \n",
      "                                                                 \n",
      " flatten (Flatten)           (None, 6272)              0         \n",
      "                                                                 \n",
      " dense (Dense)               (None, 512)               3211776   \n",
      "                                                                 \n",
      " dropout (Dropout)           (None, 512)               0         \n",
      "                                                                 \n",
      " dense_1 (Dense)             (None, 128)               65664     \n",
      "                                                                 \n",
      " dense_2 (Dense)             (None, 6)                 774       \n",
      "                                                                 \n",
      "=================================================================\n",
      "Total params: 3,288,358\n",
      "Trainable params: 3,288,358\n",
      "Non-trainable params: 0\n",
      "_________________________________________________________________\n"
     ]
    }
   ],
   "source": [
    "cnn.summary()"
   ]
  },
  {
   "cell_type": "markdown",
   "metadata": {
    "id": "ehS-v3MIpX2h"
   },
   "source": [
    "### Training the CNN on the Training set and evaluating it on the Test set"
   ]
  },
  {
   "cell_type": "code",
   "execution_count": 21,
   "metadata": {
    "colab": {
     "base_uri": "https://localhost:8080/"
    },
    "executionInfo": {
     "elapsed": 1648743,
     "status": "ok",
     "timestamp": 1645513496978,
     "user": {
      "displayName": "ritesh kagale",
      "photoUrl": "https://lh3.googleusercontent.com/a-/AOh14GiUE0PpLBQEM5krVmODNfA-dkFMCloyFDWUW4oxlw=s64",
      "userId": "13718708720698209660"
     },
     "user_tz": -330
    },
    "id": "XUj1W4PJptta",
    "outputId": "4555d622-2e5f-48f8-f8fc-893f68e0b5d2"
   },
   "outputs": [
    {
     "name": "stdout",
     "output_type": "stream",
     "text": [
      "Epoch 1/25\n",
      "438/438 [==============================] - 733s 2s/step - loss: 1.0563 - accuracy: 0.5896 - val_loss: 0.8280 - val_accuracy: 0.7026\n",
      "Epoch 2/25\n",
      "438/438 [==============================] - 161s 368ms/step - loss: 0.8180 - accuracy: 0.6976 - val_loss: 0.7020 - val_accuracy: 0.7413\n",
      "Epoch 3/25\n",
      "438/438 [==============================] - 276s 631ms/step - loss: 0.7139 - accuracy: 0.7428 - val_loss: 0.6306 - val_accuracy: 0.7732\n",
      "Epoch 4/25\n",
      "438/438 [==============================] - 128s 293ms/step - loss: 0.6627 - accuracy: 0.7642 - val_loss: 0.6554 - val_accuracy: 0.7718\n",
      "Epoch 5/25\n",
      "438/438 [==============================] - 130s 297ms/step - loss: 0.6090 - accuracy: 0.7837 - val_loss: 0.5712 - val_accuracy: 0.7940\n",
      "Epoch 6/25\n",
      "438/438 [==============================] - 179s 410ms/step - loss: 0.5767 - accuracy: 0.7935 - val_loss: 0.5305 - val_accuracy: 0.8175\n",
      "Epoch 7/25\n",
      "438/438 [==============================] - 119s 271ms/step - loss: 0.5520 - accuracy: 0.8048 - val_loss: 0.5420 - val_accuracy: 0.8152\n",
      "Epoch 8/25\n",
      "438/438 [==============================] - 195s 446ms/step - loss: 0.5254 - accuracy: 0.8141 - val_loss: 0.5414 - val_accuracy: 0.8212\n",
      "Epoch 9/25\n",
      "438/438 [==============================] - 138s 314ms/step - loss: 0.5079 - accuracy: 0.8180 - val_loss: 0.5678 - val_accuracy: 0.7974\n",
      "Epoch 10/25\n",
      "438/438 [==============================] - 102s 233ms/step - loss: 0.4890 - accuracy: 0.8244 - val_loss: 0.5156 - val_accuracy: 0.8219\n",
      "Epoch 11/25\n",
      "438/438 [==============================] - 274s 627ms/step - loss: 0.4599 - accuracy: 0.8371 - val_loss: 0.5016 - val_accuracy: 0.8266\n",
      "Epoch 12/25\n",
      "438/438 [==============================] - 233s 532ms/step - loss: 0.4449 - accuracy: 0.8432 - val_loss: 0.5552 - val_accuracy: 0.8219\n",
      "Epoch 13/25\n",
      "438/438 [==============================] - 247s 565ms/step - loss: 0.4342 - accuracy: 0.8455 - val_loss: 0.5630 - val_accuracy: 0.8058\n",
      "Epoch 14/25\n",
      "438/438 [==============================] - 106s 243ms/step - loss: 0.4191 - accuracy: 0.8490 - val_loss: 0.5127 - val_accuracy: 0.8222\n",
      "Epoch 15/25\n",
      "438/438 [==============================] - 111s 254ms/step - loss: 0.4063 - accuracy: 0.8565 - val_loss: 0.5943 - val_accuracy: 0.8085\n",
      "Epoch 16/25\n",
      "438/438 [==============================] - 227s 518ms/step - loss: 0.3877 - accuracy: 0.8584 - val_loss: 0.5208 - val_accuracy: 0.8159\n",
      "Epoch 17/25\n",
      "438/438 [==============================] - 361s 826ms/step - loss: 0.3845 - accuracy: 0.8619 - val_loss: 0.5188 - val_accuracy: 0.8236\n",
      "Epoch 18/25\n",
      "438/438 [==============================] - 279s 635ms/step - loss: 0.3817 - accuracy: 0.8614 - val_loss: 0.4900 - val_accuracy: 0.8317\n",
      "Epoch 19/25\n",
      "438/438 [==============================] - 93s 212ms/step - loss: 0.3655 - accuracy: 0.8689 - val_loss: 0.5058 - val_accuracy: 0.8286\n",
      "Epoch 20/25\n",
      "438/438 [==============================] - 96s 220ms/step - loss: 0.3489 - accuracy: 0.8759 - val_loss: 0.5262 - val_accuracy: 0.8347\n",
      "Epoch 21/25\n",
      "438/438 [==============================] - 190s 434ms/step - loss: 0.3454 - accuracy: 0.8757 - val_loss: 0.5288 - val_accuracy: 0.8276\n",
      "Epoch 22/25\n",
      "438/438 [==============================] - 406s 927ms/step - loss: 0.3418 - accuracy: 0.8789 - val_loss: 0.5776 - val_accuracy: 0.8209\n",
      "Epoch 23/25\n",
      "438/438 [==============================] - 317s 726ms/step - loss: 0.3307 - accuracy: 0.8789 - val_loss: 0.5093 - val_accuracy: 0.8347\n",
      "Epoch 24/25\n",
      "438/438 [==============================] - 424s 968ms/step - loss: 0.3238 - accuracy: 0.8840 - val_loss: 0.4841 - val_accuracy: 0.8427\n",
      "Epoch 25/25\n",
      "438/438 [==============================] - 426s 974ms/step - loss: 0.3119 - accuracy: 0.8874 - val_loss: 0.5649 - val_accuracy: 0.8290\n"
     ]
    }
   ],
   "source": [
    "fitted_model = cnn.fit(x = training_set,\n",
    "                       steps_per_epoch = int(14034/32),\n",
    "                       epochs = 25,\n",
    "                       validation_data = test_set,\n",
    "                       validation_steps = int(3000 /32))"
   ]
  },
  {
   "cell_type": "code",
   "execution_count": 22,
   "metadata": {
    "colab": {
     "base_uri": "https://localhost:8080/",
     "height": 282
    },
    "executionInfo": {
     "elapsed": 438,
     "status": "ok",
     "timestamp": 1645516198644,
     "user": {
      "displayName": "ritesh kagale",
      "photoUrl": "https://lh3.googleusercontent.com/a-/AOh14GiUE0PpLBQEM5krVmODNfA-dkFMCloyFDWUW4oxlw=s64",
      "userId": "13718708720698209660"
     },
     "user_tz": -330
    },
    "id": "2L_RaoIZG87L",
    "outputId": "31356a04-d561-4818-b007-578323228e07"
   },
   "outputs": [
    {
     "data": {
      "text/plain": [
       "<matplotlib.legend.Legend at 0x204cdd70eb0>"
      ]
     },
     "execution_count": 22,
     "metadata": {},
     "output_type": "execute_result"
    },
    {
     "data": {
      "image/png": "[encoded data removed]",
      "text/plain": [
       "<Figure size 432x288 with 1 Axes>"
      ]
     },
     "metadata": {
      "needs_background": "light"
     },
     "output_type": "display_data"
    }
   ],
   "source": [
    "import matplotlib.pyplot as plt\n",
    "# plotting accuracy and validation accuracy\n",
    "accuracy = fitted_model.history['accuracy']\n",
    "plt.plot(range(len(accuracy)), accuracy, 'bo', label = 'accuracy')\n",
    "\n",
    "plt.legend()"
   ]
  },
  {
   "cell_type": "markdown",
   "metadata": {
    "id": "U3PZasO0006Z"
   },
   "source": [
    "## Part 4 - Making a single prediction"
   ]
  },
  {
   "cell_type": "code",
   "execution_count": 32,
   "metadata": {
    "colab": {
     "base_uri": "https://localhost:8080/"
    },
    "executionInfo": {
     "elapsed": 1612,
     "status": "ok",
     "timestamp": 1645516204776,
     "user": {
      "displayName": "ritesh kagale",
      "photoUrl": "https://lh3.googleusercontent.com/a-/AOh14GiUE0PpLBQEM5krVmODNfA-dkFMCloyFDWUW4oxlw=s64",
      "userId": "13718708720698209660"
     },
     "user_tz": -330
    },
    "id": "gsSiWEJY1BPB",
    "outputId": "c28f57ad-dd77-4bd6-dee9-0e647c1e772f"
   },
   "outputs": [
    {
     "name": "stdout",
     "output_type": "stream",
     "text": [
      "[[0. 0. 0. 0. 1. 0.]]\n"
     ]
    },
    {
     "data": {
      "text/plain": [
       "{'buildings': 0,\n",
       " 'forest': 1,\n",
       " 'glacier': 2,\n",
       " 'mountain': 3,\n",
       " 'sea': 4,\n",
       " 'street': 5}"
      ]
     },
     "execution_count": 32,
     "metadata": {},
     "output_type": "execute_result"
    }
   ],
   "source": [
    "import numpy as np\n",
    "from keras.preprocessing import image\n",
    "test_image = image.load_img('F:/study matrials/2022/Convolution Neural Network/CNN Projects/CNN Categorical Classification/Intel Image Classification/dataset/seg_pred/seg_pred/2798.jpg', target_size = (64, 64))\n",
    "test_image = image.img_to_array(test_image)\n",
    "test_image = np.expand_dims(test_image, axis = 0)\n",
    "result = cnn.predict(test_image)\n",
    "print(result)\n",
    "training_set.class_indices"
   ]
  },
  {
   "cell_type": "code",
   "execution_count": null,
   "metadata": {},
   "outputs": [],
   "source": []
  },
  {
   "cell_type": "code",
   "execution_count": null,
   "metadata": {},
   "outputs": [],
   "source": []
  }
 ],
 "metadata": {
  "colab": {
   "collapsed_sections": [],
   "name": "Monkey_Classification_using_CNN.ipynb",
   "provenance": []
  },
  "kernelspec": {
   "display_name": "Python 3 (ipykernel)",
   "language": "python",
   "name": "python3"
  },
  "language_info": {
   "codemirror_mode": {
    "name": "ipython",
    "version": 3
   },
   "file_extension": ".py",
   "mimetype": "text/x-python",
   "name": "python",
   "nbconvert_exporter": "python",
   "pygments_lexer": "ipython3",
   "version": "3.9.7"
  }
 },
 "nbformat": 4,
 "nbformat_minor": 1
}
