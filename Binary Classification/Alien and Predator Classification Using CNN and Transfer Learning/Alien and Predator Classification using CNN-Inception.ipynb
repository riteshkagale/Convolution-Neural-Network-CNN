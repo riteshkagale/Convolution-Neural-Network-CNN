{
 "cells": [
  {
   "cell_type": "markdown",
   "metadata": {
    "id": "3DR-eO17geWu"
   },
   "source": [
    "# Convolutional Neural Network"
   ]
  },
  {
   "cell_type": "markdown",
   "metadata": {
    "id": "EMefrVPCg-60"
   },
   "source": [
    "### Importing the libraries"
   ]
  },
  {
   "cell_type": "code",
   "execution_count": 20,
   "metadata": {
    "id": "sCV30xyVhFbE"
   },
   "outputs": [],
   "source": [
    "import tensorflow as tf\n",
    "from keras.preprocessing.image import ImageDataGenerator"
   ]
  },
  {
   "cell_type": "code",
   "execution_count": 21,
   "metadata": {
    "colab": {
     "base_uri": "https://localhost:8080/",
     "height": 35
    },
    "executionInfo": {
     "elapsed": 491,
     "status": "ok",
     "timestamp": 1645451015601,
     "user": {
      "displayName": "ritesh kagale",
      "photoUrl": "https://lh3.googleusercontent.com/a-/AOh14GiUE0PpLBQEM5krVmODNfA-dkFMCloyFDWUW4oxlw=s64",
      "userId": "13718708720698209660"
     },
     "user_tz": -330
    },
    "id": "FIleuCAjoFD8",
    "outputId": "d1109172-a656-43b7-ef87-ca9c6d28f46b"
   },
   "outputs": [
    {
     "data": {
      "text/plain": [
       "'2.8.0'"
      ]
     },
     "execution_count": 21,
     "metadata": {},
     "output_type": "execute_result"
    }
   ],
   "source": [
    "tf.__version__"
   ]
  },
  {
   "cell_type": "markdown",
   "metadata": {
    "id": "oxQxCBWyoGPE"
   },
   "source": [
    "## Part 1 - Data Preprocessing"
   ]
  },
  {
   "cell_type": "markdown",
   "metadata": {
    "id": "MvE-heJNo3GG"
   },
   "source": [
    "### Preprocessing the Training set"
   ]
  },
  {
   "cell_type": "code",
   "execution_count": 22,
   "metadata": {
    "colab": {
     "base_uri": "https://localhost:8080/"
    },
    "executionInfo": {
     "elapsed": 25821,
     "status": "ok",
     "timestamp": 1645451090213,
     "user": {
      "displayName": "ritesh kagale",
      "photoUrl": "https://lh3.googleusercontent.com/a-/AOh14GiUE0PpLBQEM5krVmODNfA-dkFMCloyFDWUW4oxlw=s64",
      "userId": "13718708720698209660"
     },
     "user_tz": -330
    },
    "id": "0koUcJMJpEBD",
    "outputId": "99a32187-143c-4638-dc98-8a6b14ea971c"
   },
   "outputs": [
    {
     "name": "stdout",
     "output_type": "stream",
     "text": [
      "Found 692 images belonging to 2 classes.\n"
     ]
    }
   ],
   "source": [
    "train_datagen = ImageDataGenerator(rescale = 1./255,\n",
    "                                   shear_range = 0.2,\n",
    "                                   zoom_range = 0.2,\n",
    "                                   horizontal_flip = True)\n",
    "training_set = train_datagen.flow_from_directory('F:/study matrials/2022/Convolution Neural Network/CNN Projects/CNN Binary Classification/Alien vs Predator/dataset/train/',\n",
    "                                                 target_size = (200, 200),\n",
    "                                                 batch_size = 32,\n",
    "                                                 class_mode = 'binary')"
   ]
  },
  {
   "cell_type": "code",
   "execution_count": 23,
   "metadata": {},
   "outputs": [
    {
     "data": {
      "text/plain": [
       "{'alien': 0, 'predator': 1}"
      ]
     },
     "execution_count": 23,
     "metadata": {},
     "output_type": "execute_result"
    }
   ],
   "source": [
    "training_set.class_indices"
   ]
  },
  {
   "cell_type": "markdown",
   "metadata": {
    "id": "mrCMmGw9pHys"
   },
   "source": [
    "### Preprocessing the Test set"
   ]
  },
  {
   "cell_type": "code",
   "execution_count": 24,
   "metadata": {
    "colab": {
     "base_uri": "https://localhost:8080/"
    },
    "executionInfo": {
     "elapsed": 4980,
     "status": "ok",
     "timestamp": 1645451095187,
     "user": {
      "displayName": "ritesh kagale",
      "photoUrl": "https://lh3.googleusercontent.com/a-/AOh14GiUE0PpLBQEM5krVmODNfA-dkFMCloyFDWUW4oxlw=s64",
      "userId": "13718708720698209660"
     },
     "user_tz": -330
    },
    "id": "SH4WzfOhpKc3",
    "outputId": "e4a0156c-f321-45f8-c128-20cf9fbbbb6d"
   },
   "outputs": [
    {
     "name": "stdout",
     "output_type": "stream",
     "text": [
      "Found 200 images belonging to 2 classes.\n"
     ]
    }
   ],
   "source": [
    "test_datagen = ImageDataGenerator(rescale = 1./255)\n",
    "test_set = test_datagen.flow_from_directory('F:/study matrials/2022/Convolution Neural Network/CNN Projects/CNN Binary Classification/Alien vs Predator/dataset/validation',\n",
    "                                            target_size = (200, 200),\n",
    "                                            batch_size = 32,\n",
    "                                            class_mode = 'binary')"
   ]
  },
  {
   "cell_type": "code",
   "execution_count": 25,
   "metadata": {
    "colab": {
     "base_uri": "https://localhost:8080/"
    },
    "executionInfo": {
     "elapsed": 3926,
     "status": "ok",
     "timestamp": 1645451155585,
     "user": {
      "displayName": "ritesh kagale",
      "photoUrl": "https://lh3.googleusercontent.com/a-/AOh14GiUE0PpLBQEM5krVmODNfA-dkFMCloyFDWUW4oxlw=s64",
      "userId": "13718708720698209660"
     },
     "user_tz": -330
    },
    "id": "xug5QYjwhzf5",
    "outputId": "36042bec-258f-4fa4-ad0f-b7c393e9135c"
   },
   "outputs": [],
   "source": [
    "inception_model = tf.keras.applications.InceptionV3(weights='imagenet', include_top=False, input_tensor=tf.keras.layers.Input(shape=(200,200,3)))"
   ]
  },
  {
   "cell_type": "code",
   "execution_count": 26,
   "metadata": {
    "id": "ehNFiH23iJpR"
   },
   "outputs": [],
   "source": [
    "for layer in inception_model.layers[:-4]:\n",
    "    layer.trainable = False"
   ]
  },
  {
   "cell_type": "code",
   "execution_count": 27,
   "metadata": {
    "colab": {
     "base_uri": "https://localhost:8080/"
    },
    "executionInfo": {
     "elapsed": 6,
     "status": "ok",
     "timestamp": 1645452023266,
     "user": {
      "displayName": "ritesh kagale",
      "photoUrl": "https://lh3.googleusercontent.com/a-/AOh14GiUE0PpLBQEM5krVmODNfA-dkFMCloyFDWUW4oxlw=s64",
      "userId": "13718708720698209660"
     },
     "user_tz": -330
    },
    "id": "fPIS2qxwiM5J",
    "outputId": "0925d9e4-8739-4eac-f832-786d7e8e6f92"
   },
   "outputs": [
    {
     "name": "stdout",
     "output_type": "stream",
     "text": [
      "\u001b[34minput_3\u001b[0m\n",
      "\u001b[31mFalse\u001b[0m\n",
      "\u001b[34mconv2d_188\u001b[0m\n",
      "\u001b[31mFalse\u001b[0m\n",
      "\u001b[34mbatch_normalization_188\u001b[0m\n",
      "\u001b[31mFalse\u001b[0m\n",
      "\u001b[34mactivation_188\u001b[0m\n",
      "\u001b[31mFalse\u001b[0m\n",
      "\u001b[34mconv2d_189\u001b[0m\n",
      "\u001b[31mFalse\u001b[0m\n",
      "\u001b[34mbatch_normalization_189\u001b[0m\n",
      "\u001b[31mFalse\u001b[0m\n",
      "\u001b[34mactivation_189\u001b[0m\n",
      "\u001b[31mFalse\u001b[0m\n",
      "\u001b[34mconv2d_190\u001b[0m\n",
      "\u001b[31mFalse\u001b[0m\n",
      "\u001b[34mbatch_normalization_190\u001b[0m\n",
      "\u001b[31mFalse\u001b[0m\n",
      "\u001b[34mactivation_190\u001b[0m\n",
      "\u001b[31mFalse\u001b[0m\n",
      "\u001b[34mmax_pooling2d_8\u001b[0m\n",
      "\u001b[31mFalse\u001b[0m\n",
      "\u001b[34mconv2d_191\u001b[0m\n",
      "\u001b[31mFalse\u001b[0m\n",
      "\u001b[34mbatch_normalization_191\u001b[0m\n",
      "\u001b[31mFalse\u001b[0m\n",
      "\u001b[34mactivation_191\u001b[0m\n",
      "\u001b[31mFalse\u001b[0m\n",
      "\u001b[34mconv2d_192\u001b[0m\n",
      "\u001b[31mFalse\u001b[0m\n",
      "\u001b[34mbatch_normalization_192\u001b[0m\n",
      "\u001b[31mFalse\u001b[0m\n",
      "\u001b[34mactivation_192\u001b[0m\n",
      "\u001b[31mFalse\u001b[0m\n",
      "\u001b[34mmax_pooling2d_9\u001b[0m\n",
      "\u001b[31mFalse\u001b[0m\n",
      "\u001b[34mconv2d_196\u001b[0m\n",
      "\u001b[31mFalse\u001b[0m\n",
      "\u001b[34mbatch_normalization_196\u001b[0m\n",
      "\u001b[31mFalse\u001b[0m\n",
      "\u001b[34mactivation_196\u001b[0m\n",
      "\u001b[31mFalse\u001b[0m\n",
      "\u001b[34mconv2d_194\u001b[0m\n",
      "\u001b[31mFalse\u001b[0m\n",
      "\u001b[34mconv2d_197\u001b[0m\n",
      "\u001b[31mFalse\u001b[0m\n",
      "\u001b[34mbatch_normalization_194\u001b[0m\n",
      "\u001b[31mFalse\u001b[0m\n",
      "\u001b[34mbatch_normalization_197\u001b[0m\n",
      "\u001b[31mFalse\u001b[0m\n",
      "\u001b[34mactivation_194\u001b[0m\n",
      "\u001b[31mFalse\u001b[0m\n",
      "\u001b[34mactivation_197\u001b[0m\n",
      "\u001b[31mFalse\u001b[0m\n",
      "\u001b[34maverage_pooling2d_18\u001b[0m\n",
      "\u001b[31mFalse\u001b[0m\n",
      "\u001b[34mconv2d_193\u001b[0m\n",
      "\u001b[31mFalse\u001b[0m\n",
      "\u001b[34mconv2d_195\u001b[0m\n",
      "\u001b[31mFalse\u001b[0m\n",
      "\u001b[34mconv2d_198\u001b[0m\n",
      "\u001b[31mFalse\u001b[0m\n",
      "\u001b[34mconv2d_199\u001b[0m\n",
      "\u001b[31mFalse\u001b[0m\n",
      "\u001b[34mbatch_normalization_193\u001b[0m\n",
      "\u001b[31mFalse\u001b[0m\n",
      "\u001b[34mbatch_normalization_195\u001b[0m\n",
      "\u001b[31mFalse\u001b[0m\n",
      "\u001b[34mbatch_normalization_198\u001b[0m\n",
      "\u001b[31mFalse\u001b[0m\n",
      "\u001b[34mbatch_normalization_199\u001b[0m\n",
      "\u001b[31mFalse\u001b[0m\n",
      "\u001b[34mactivation_193\u001b[0m\n",
      "\u001b[31mFalse\u001b[0m\n",
      "\u001b[34mactivation_195\u001b[0m\n",
      "\u001b[31mFalse\u001b[0m\n",
      "\u001b[34mactivation_198\u001b[0m\n",
      "\u001b[31mFalse\u001b[0m\n",
      "\u001b[34mactivation_199\u001b[0m\n",
      "\u001b[31mFalse\u001b[0m\n",
      "\u001b[34mmixed0\u001b[0m\n",
      "\u001b[31mFalse\u001b[0m\n",
      "\u001b[34mconv2d_203\u001b[0m\n",
      "\u001b[31mFalse\u001b[0m\n",
      "\u001b[34mbatch_normalization_203\u001b[0m\n",
      "\u001b[31mFalse\u001b[0m\n",
      "\u001b[34mactivation_203\u001b[0m\n",
      "\u001b[31mFalse\u001b[0m\n",
      "\u001b[34mconv2d_201\u001b[0m\n",
      "\u001b[31mFalse\u001b[0m\n",
      "\u001b[34mconv2d_204\u001b[0m\n",
      "\u001b[31mFalse\u001b[0m\n",
      "\u001b[34mbatch_normalization_201\u001b[0m\n",
      "\u001b[31mFalse\u001b[0m\n",
      "\u001b[34mbatch_normalization_204\u001b[0m\n",
      "\u001b[31mFalse\u001b[0m\n",
      "\u001b[34mactivation_201\u001b[0m\n",
      "\u001b[31mFalse\u001b[0m\n",
      "\u001b[34mactivation_204\u001b[0m\n",
      "\u001b[31mFalse\u001b[0m\n",
      "\u001b[34maverage_pooling2d_19\u001b[0m\n",
      "\u001b[31mFalse\u001b[0m\n",
      "\u001b[34mconv2d_200\u001b[0m\n",
      "\u001b[31mFalse\u001b[0m\n",
      "\u001b[34mconv2d_202\u001b[0m\n",
      "\u001b[31mFalse\u001b[0m\n",
      "\u001b[34mconv2d_205\u001b[0m\n",
      "\u001b[31mFalse\u001b[0m\n",
      "\u001b[34mconv2d_206\u001b[0m\n",
      "\u001b[31mFalse\u001b[0m\n",
      "\u001b[34mbatch_normalization_200\u001b[0m\n",
      "\u001b[31mFalse\u001b[0m\n",
      "\u001b[34mbatch_normalization_202\u001b[0m\n",
      "\u001b[31mFalse\u001b[0m\n",
      "\u001b[34mbatch_normalization_205\u001b[0m\n",
      "\u001b[31mFalse\u001b[0m\n",
      "\u001b[34mbatch_normalization_206\u001b[0m\n",
      "\u001b[31mFalse\u001b[0m\n",
      "\u001b[34mactivation_200\u001b[0m\n",
      "\u001b[31mFalse\u001b[0m\n",
      "\u001b[34mactivation_202\u001b[0m\n",
      "\u001b[31mFalse\u001b[0m\n",
      "\u001b[34mactivation_205\u001b[0m\n",
      "\u001b[31mFalse\u001b[0m\n",
      "\u001b[34mactivation_206\u001b[0m\n",
      "\u001b[31mFalse\u001b[0m\n",
      "\u001b[34mmixed1\u001b[0m\n",
      "\u001b[31mFalse\u001b[0m\n",
      "\u001b[34mconv2d_210\u001b[0m\n",
      "\u001b[31mFalse\u001b[0m\n",
      "\u001b[34mbatch_normalization_210\u001b[0m\n",
      "\u001b[31mFalse\u001b[0m\n",
      "\u001b[34mactivation_210\u001b[0m\n",
      "\u001b[31mFalse\u001b[0m\n",
      "\u001b[34mconv2d_208\u001b[0m\n",
      "\u001b[31mFalse\u001b[0m\n",
      "\u001b[34mconv2d_211\u001b[0m\n",
      "\u001b[31mFalse\u001b[0m\n",
      "\u001b[34mbatch_normalization_208\u001b[0m\n",
      "\u001b[31mFalse\u001b[0m\n",
      "\u001b[34mbatch_normalization_211\u001b[0m\n",
      "\u001b[31mFalse\u001b[0m\n",
      "\u001b[34mactivation_208\u001b[0m\n",
      "\u001b[31mFalse\u001b[0m\n",
      "\u001b[34mactivation_211\u001b[0m\n",
      "\u001b[31mFalse\u001b[0m\n",
      "\u001b[34maverage_pooling2d_20\u001b[0m\n",
      "\u001b[31mFalse\u001b[0m\n",
      "\u001b[34mconv2d_207\u001b[0m\n",
      "\u001b[31mFalse\u001b[0m\n",
      "\u001b[34mconv2d_209\u001b[0m\n",
      "\u001b[31mFalse\u001b[0m\n",
      "\u001b[34mconv2d_212\u001b[0m\n",
      "\u001b[31mFalse\u001b[0m\n",
      "\u001b[34mconv2d_213\u001b[0m\n",
      "\u001b[31mFalse\u001b[0m\n",
      "\u001b[34mbatch_normalization_207\u001b[0m\n",
      "\u001b[31mFalse\u001b[0m\n",
      "\u001b[34mbatch_normalization_209\u001b[0m\n",
      "\u001b[31mFalse\u001b[0m\n",
      "\u001b[34mbatch_normalization_212\u001b[0m\n",
      "\u001b[31mFalse\u001b[0m\n",
      "\u001b[34mbatch_normalization_213\u001b[0m\n",
      "\u001b[31mFalse\u001b[0m\n",
      "\u001b[34mactivation_207\u001b[0m\n",
      "\u001b[31mFalse\u001b[0m\n",
      "\u001b[34mactivation_209\u001b[0m\n",
      "\u001b[31mFalse\u001b[0m\n",
      "\u001b[34mactivation_212\u001b[0m\n",
      "\u001b[31mFalse\u001b[0m\n",
      "\u001b[34mactivation_213\u001b[0m\n",
      "\u001b[31mFalse\u001b[0m\n",
      "\u001b[34mmixed2\u001b[0m\n",
      "\u001b[31mFalse\u001b[0m\n",
      "\u001b[34mconv2d_215\u001b[0m\n",
      "\u001b[31mFalse\u001b[0m\n",
      "\u001b[34mbatch_normalization_215\u001b[0m\n",
      "\u001b[31mFalse\u001b[0m\n",
      "\u001b[34mactivation_215\u001b[0m\n",
      "\u001b[31mFalse\u001b[0m\n",
      "\u001b[34mconv2d_216\u001b[0m\n",
      "\u001b[31mFalse\u001b[0m\n",
      "\u001b[34mbatch_normalization_216\u001b[0m\n",
      "\u001b[31mFalse\u001b[0m\n",
      "\u001b[34mactivation_216\u001b[0m\n",
      "\u001b[31mFalse\u001b[0m\n",
      "\u001b[34mconv2d_214\u001b[0m\n",
      "\u001b[31mFalse\u001b[0m\n",
      "\u001b[34mconv2d_217\u001b[0m\n",
      "\u001b[31mFalse\u001b[0m\n",
      "\u001b[34mbatch_normalization_214\u001b[0m\n",
      "\u001b[31mFalse\u001b[0m\n",
      "\u001b[34mbatch_normalization_217\u001b[0m\n",
      "\u001b[31mFalse\u001b[0m\n",
      "\u001b[34mactivation_214\u001b[0m\n",
      "\u001b[31mFalse\u001b[0m\n",
      "\u001b[34mactivation_217\u001b[0m\n",
      "\u001b[31mFalse\u001b[0m\n",
      "\u001b[34mmax_pooling2d_10\u001b[0m\n",
      "\u001b[31mFalse\u001b[0m\n",
      "\u001b[34mmixed3\u001b[0m\n",
      "\u001b[31mFalse\u001b[0m\n",
      "\u001b[34mconv2d_222\u001b[0m\n",
      "\u001b[31mFalse\u001b[0m\n",
      "\u001b[34mbatch_normalization_222\u001b[0m\n",
      "\u001b[31mFalse\u001b[0m\n",
      "\u001b[34mactivation_222\u001b[0m\n",
      "\u001b[31mFalse\u001b[0m\n",
      "\u001b[34mconv2d_223\u001b[0m\n",
      "\u001b[31mFalse\u001b[0m\n",
      "\u001b[34mbatch_normalization_223\u001b[0m\n",
      "\u001b[31mFalse\u001b[0m\n",
      "\u001b[34mactivation_223\u001b[0m\n",
      "\u001b[31mFalse\u001b[0m\n",
      "\u001b[34mconv2d_219\u001b[0m\n",
      "\u001b[31mFalse\u001b[0m\n",
      "\u001b[34mconv2d_224\u001b[0m\n",
      "\u001b[31mFalse\u001b[0m\n",
      "\u001b[34mbatch_normalization_219\u001b[0m\n",
      "\u001b[31mFalse\u001b[0m\n",
      "\u001b[34mbatch_normalization_224\u001b[0m\n",
      "\u001b[31mFalse\u001b[0m\n",
      "\u001b[34mactivation_219\u001b[0m\n",
      "\u001b[31mFalse\u001b[0m\n",
      "\u001b[34mactivation_224\u001b[0m\n",
      "\u001b[31mFalse\u001b[0m\n",
      "\u001b[34mconv2d_220\u001b[0m\n",
      "\u001b[31mFalse\u001b[0m\n",
      "\u001b[34mconv2d_225\u001b[0m\n",
      "\u001b[31mFalse\u001b[0m\n",
      "\u001b[34mbatch_normalization_220\u001b[0m\n",
      "\u001b[31mFalse\u001b[0m\n",
      "\u001b[34mbatch_normalization_225\u001b[0m\n",
      "\u001b[31mFalse\u001b[0m\n",
      "\u001b[34mactivation_220\u001b[0m\n",
      "\u001b[31mFalse\u001b[0m\n",
      "\u001b[34mactivation_225\u001b[0m\n",
      "\u001b[31mFalse\u001b[0m\n",
      "\u001b[34maverage_pooling2d_21\u001b[0m\n",
      "\u001b[31mFalse\u001b[0m\n",
      "\u001b[34mconv2d_218\u001b[0m\n",
      "\u001b[31mFalse\u001b[0m\n",
      "\u001b[34mconv2d_221\u001b[0m\n",
      "\u001b[31mFalse\u001b[0m\n",
      "\u001b[34mconv2d_226\u001b[0m\n",
      "\u001b[31mFalse\u001b[0m\n",
      "\u001b[34mconv2d_227\u001b[0m\n",
      "\u001b[31mFalse\u001b[0m\n",
      "\u001b[34mbatch_normalization_218\u001b[0m\n",
      "\u001b[31mFalse\u001b[0m\n",
      "\u001b[34mbatch_normalization_221\u001b[0m\n",
      "\u001b[31mFalse\u001b[0m\n",
      "\u001b[34mbatch_normalization_226\u001b[0m\n",
      "\u001b[31mFalse\u001b[0m\n",
      "\u001b[34mbatch_normalization_227\u001b[0m\n",
      "\u001b[31mFalse\u001b[0m\n",
      "\u001b[34mactivation_218\u001b[0m\n",
      "\u001b[31mFalse\u001b[0m\n",
      "\u001b[34mactivation_221\u001b[0m\n",
      "\u001b[31mFalse\u001b[0m\n",
      "\u001b[34mactivation_226\u001b[0m\n",
      "\u001b[31mFalse\u001b[0m\n",
      "\u001b[34mactivation_227\u001b[0m\n",
      "\u001b[31mFalse\u001b[0m\n",
      "\u001b[34mmixed4\u001b[0m\n",
      "\u001b[31mFalse\u001b[0m\n",
      "\u001b[34mconv2d_232\u001b[0m\n",
      "\u001b[31mFalse\u001b[0m\n",
      "\u001b[34mbatch_normalization_232\u001b[0m\n",
      "\u001b[31mFalse\u001b[0m\n",
      "\u001b[34mactivation_232\u001b[0m\n",
      "\u001b[31mFalse\u001b[0m\n",
      "\u001b[34mconv2d_233\u001b[0m\n",
      "\u001b[31mFalse\u001b[0m\n",
      "\u001b[34mbatch_normalization_233\u001b[0m\n",
      "\u001b[31mFalse\u001b[0m\n",
      "\u001b[34mactivation_233\u001b[0m\n",
      "\u001b[31mFalse\u001b[0m\n",
      "\u001b[34mconv2d_229\u001b[0m\n",
      "\u001b[31mFalse\u001b[0m\n",
      "\u001b[34mconv2d_234\u001b[0m\n",
      "\u001b[31mFalse\u001b[0m\n",
      "\u001b[34mbatch_normalization_229\u001b[0m\n",
      "\u001b[31mFalse\u001b[0m\n",
      "\u001b[34mbatch_normalization_234\u001b[0m\n",
      "\u001b[31mFalse\u001b[0m\n",
      "\u001b[34mactivation_229\u001b[0m\n",
      "\u001b[31mFalse\u001b[0m\n",
      "\u001b[34mactivation_234\u001b[0m\n",
      "\u001b[31mFalse\u001b[0m\n",
      "\u001b[34mconv2d_230\u001b[0m\n",
      "\u001b[31mFalse\u001b[0m\n",
      "\u001b[34mconv2d_235\u001b[0m\n",
      "\u001b[31mFalse\u001b[0m\n",
      "\u001b[34mbatch_normalization_230\u001b[0m\n",
      "\u001b[31mFalse\u001b[0m\n",
      "\u001b[34mbatch_normalization_235\u001b[0m\n",
      "\u001b[31mFalse\u001b[0m\n",
      "\u001b[34mactivation_230\u001b[0m\n",
      "\u001b[31mFalse\u001b[0m\n",
      "\u001b[34mactivation_235\u001b[0m\n",
      "\u001b[31mFalse\u001b[0m\n",
      "\u001b[34maverage_pooling2d_22\u001b[0m\n",
      "\u001b[31mFalse\u001b[0m\n",
      "\u001b[34mconv2d_228\u001b[0m\n",
      "\u001b[31mFalse\u001b[0m\n",
      "\u001b[34mconv2d_231\u001b[0m\n",
      "\u001b[31mFalse\u001b[0m\n",
      "\u001b[34mconv2d_236\u001b[0m\n",
      "\u001b[31mFalse\u001b[0m\n",
      "\u001b[34mconv2d_237\u001b[0m\n",
      "\u001b[31mFalse\u001b[0m\n",
      "\u001b[34mbatch_normalization_228\u001b[0m\n",
      "\u001b[31mFalse\u001b[0m\n",
      "\u001b[34mbatch_normalization_231\u001b[0m\n",
      "\u001b[31mFalse\u001b[0m\n",
      "\u001b[34mbatch_normalization_236\u001b[0m\n",
      "\u001b[31mFalse\u001b[0m\n",
      "\u001b[34mbatch_normalization_237\u001b[0m\n",
      "\u001b[31mFalse\u001b[0m\n",
      "\u001b[34mactivation_228\u001b[0m\n",
      "\u001b[31mFalse\u001b[0m\n",
      "\u001b[34mactivation_231\u001b[0m\n",
      "\u001b[31mFalse\u001b[0m\n",
      "\u001b[34mactivation_236\u001b[0m\n",
      "\u001b[31mFalse\u001b[0m\n",
      "\u001b[34mactivation_237\u001b[0m\n",
      "\u001b[31mFalse\u001b[0m\n",
      "\u001b[34mmixed5\u001b[0m\n",
      "\u001b[31mFalse\u001b[0m\n",
      "\u001b[34mconv2d_242\u001b[0m\n",
      "\u001b[31mFalse\u001b[0m\n",
      "\u001b[34mbatch_normalization_242\u001b[0m\n",
      "\u001b[31mFalse\u001b[0m\n",
      "\u001b[34mactivation_242\u001b[0m\n",
      "\u001b[31mFalse\u001b[0m\n",
      "\u001b[34mconv2d_243\u001b[0m\n",
      "\u001b[31mFalse\u001b[0m\n",
      "\u001b[34mbatch_normalization_243\u001b[0m\n",
      "\u001b[31mFalse\u001b[0m\n",
      "\u001b[34mactivation_243\u001b[0m\n",
      "\u001b[31mFalse\u001b[0m\n",
      "\u001b[34mconv2d_239\u001b[0m\n",
      "\u001b[31mFalse\u001b[0m\n",
      "\u001b[34mconv2d_244\u001b[0m\n",
      "\u001b[31mFalse\u001b[0m\n",
      "\u001b[34mbatch_normalization_239\u001b[0m\n",
      "\u001b[31mFalse\u001b[0m\n",
      "\u001b[34mbatch_normalization_244\u001b[0m\n",
      "\u001b[31mFalse\u001b[0m\n",
      "\u001b[34mactivation_239\u001b[0m\n",
      "\u001b[31mFalse\u001b[0m\n",
      "\u001b[34mactivation_244\u001b[0m\n",
      "\u001b[31mFalse\u001b[0m\n",
      "\u001b[34mconv2d_240\u001b[0m\n",
      "\u001b[31mFalse\u001b[0m\n",
      "\u001b[34mconv2d_245\u001b[0m\n",
      "\u001b[31mFalse\u001b[0m\n",
      "\u001b[34mbatch_normalization_240\u001b[0m\n",
      "\u001b[31mFalse\u001b[0m\n",
      "\u001b[34mbatch_normalization_245\u001b[0m\n",
      "\u001b[31mFalse\u001b[0m\n",
      "\u001b[34mactivation_240\u001b[0m\n",
      "\u001b[31mFalse\u001b[0m\n",
      "\u001b[34mactivation_245\u001b[0m\n",
      "\u001b[31mFalse\u001b[0m\n",
      "\u001b[34maverage_pooling2d_23\u001b[0m\n",
      "\u001b[31mFalse\u001b[0m\n",
      "\u001b[34mconv2d_238\u001b[0m\n",
      "\u001b[31mFalse\u001b[0m\n",
      "\u001b[34mconv2d_241\u001b[0m\n",
      "\u001b[31mFalse\u001b[0m\n",
      "\u001b[34mconv2d_246\u001b[0m\n",
      "\u001b[31mFalse\u001b[0m\n",
      "\u001b[34mconv2d_247\u001b[0m\n",
      "\u001b[31mFalse\u001b[0m\n",
      "\u001b[34mbatch_normalization_238\u001b[0m\n",
      "\u001b[31mFalse\u001b[0m\n",
      "\u001b[34mbatch_normalization_241\u001b[0m\n",
      "\u001b[31mFalse\u001b[0m\n",
      "\u001b[34mbatch_normalization_246\u001b[0m\n",
      "\u001b[31mFalse\u001b[0m\n",
      "\u001b[34mbatch_normalization_247\u001b[0m\n",
      "\u001b[31mFalse\u001b[0m\n",
      "\u001b[34mactivation_238\u001b[0m\n",
      "\u001b[31mFalse\u001b[0m\n",
      "\u001b[34mactivation_241\u001b[0m\n",
      "\u001b[31mFalse\u001b[0m\n",
      "\u001b[34mactivation_246\u001b[0m\n",
      "\u001b[31mFalse\u001b[0m\n",
      "\u001b[34mactivation_247\u001b[0m\n",
      "\u001b[31mFalse\u001b[0m\n",
      "\u001b[34mmixed6\u001b[0m\n",
      "\u001b[31mFalse\u001b[0m\n",
      "\u001b[34mconv2d_252\u001b[0m\n",
      "\u001b[31mFalse\u001b[0m\n",
      "\u001b[34mbatch_normalization_252\u001b[0m\n",
      "\u001b[31mFalse\u001b[0m\n",
      "\u001b[34mactivation_252\u001b[0m\n",
      "\u001b[31mFalse\u001b[0m\n",
      "\u001b[34mconv2d_253\u001b[0m\n",
      "\u001b[31mFalse\u001b[0m\n",
      "\u001b[34mbatch_normalization_253\u001b[0m\n",
      "\u001b[31mFalse\u001b[0m\n",
      "\u001b[34mactivation_253\u001b[0m\n",
      "\u001b[31mFalse\u001b[0m\n",
      "\u001b[34mconv2d_249\u001b[0m\n",
      "\u001b[31mFalse\u001b[0m\n",
      "\u001b[34mconv2d_254\u001b[0m\n",
      "\u001b[31mFalse\u001b[0m\n",
      "\u001b[34mbatch_normalization_249\u001b[0m\n",
      "\u001b[31mFalse\u001b[0m\n",
      "\u001b[34mbatch_normalization_254\u001b[0m\n",
      "\u001b[31mFalse\u001b[0m\n",
      "\u001b[34mactivation_249\u001b[0m\n",
      "\u001b[31mFalse\u001b[0m\n",
      "\u001b[34mactivation_254\u001b[0m\n",
      "\u001b[31mFalse\u001b[0m\n",
      "\u001b[34mconv2d_250\u001b[0m\n",
      "\u001b[31mFalse\u001b[0m\n",
      "\u001b[34mconv2d_255\u001b[0m\n",
      "\u001b[31mFalse\u001b[0m\n",
      "\u001b[34mbatch_normalization_250\u001b[0m\n",
      "\u001b[31mFalse\u001b[0m\n",
      "\u001b[34mbatch_normalization_255\u001b[0m\n",
      "\u001b[31mFalse\u001b[0m\n",
      "\u001b[34mactivation_250\u001b[0m\n",
      "\u001b[31mFalse\u001b[0m\n",
      "\u001b[34mactivation_255\u001b[0m\n",
      "\u001b[31mFalse\u001b[0m\n",
      "\u001b[34maverage_pooling2d_24\u001b[0m\n",
      "\u001b[31mFalse\u001b[0m\n",
      "\u001b[34mconv2d_248\u001b[0m\n",
      "\u001b[31mFalse\u001b[0m\n",
      "\u001b[34mconv2d_251\u001b[0m\n",
      "\u001b[31mFalse\u001b[0m\n",
      "\u001b[34mconv2d_256\u001b[0m\n",
      "\u001b[31mFalse\u001b[0m\n",
      "\u001b[34mconv2d_257\u001b[0m\n",
      "\u001b[31mFalse\u001b[0m\n",
      "\u001b[34mbatch_normalization_248\u001b[0m\n",
      "\u001b[31mFalse\u001b[0m\n",
      "\u001b[34mbatch_normalization_251\u001b[0m\n",
      "\u001b[31mFalse\u001b[0m\n",
      "\u001b[34mbatch_normalization_256\u001b[0m\n",
      "\u001b[31mFalse\u001b[0m\n",
      "\u001b[34mbatch_normalization_257\u001b[0m\n",
      "\u001b[31mFalse\u001b[0m\n",
      "\u001b[34mactivation_248\u001b[0m\n",
      "\u001b[31mFalse\u001b[0m\n",
      "\u001b[34mactivation_251\u001b[0m\n",
      "\u001b[31mFalse\u001b[0m\n",
      "\u001b[34mactivation_256\u001b[0m\n",
      "\u001b[31mFalse\u001b[0m\n",
      "\u001b[34mactivation_257\u001b[0m\n",
      "\u001b[31mFalse\u001b[0m\n",
      "\u001b[34mmixed7\u001b[0m\n",
      "\u001b[31mFalse\u001b[0m\n",
      "\u001b[34mconv2d_260\u001b[0m\n",
      "\u001b[31mFalse\u001b[0m\n",
      "\u001b[34mbatch_normalization_260\u001b[0m\n",
      "\u001b[31mFalse\u001b[0m\n",
      "\u001b[34mactivation_260\u001b[0m\n",
      "\u001b[31mFalse\u001b[0m\n",
      "\u001b[34mconv2d_261\u001b[0m\n",
      "\u001b[31mFalse\u001b[0m\n",
      "\u001b[34mbatch_normalization_261\u001b[0m\n",
      "\u001b[31mFalse\u001b[0m\n",
      "\u001b[34mactivation_261\u001b[0m\n",
      "\u001b[31mFalse\u001b[0m\n",
      "\u001b[34mconv2d_258\u001b[0m\n",
      "\u001b[31mFalse\u001b[0m\n",
      "\u001b[34mconv2d_262\u001b[0m\n",
      "\u001b[31mFalse\u001b[0m\n",
      "\u001b[34mbatch_normalization_258\u001b[0m\n",
      "\u001b[31mFalse\u001b[0m\n",
      "\u001b[34mbatch_normalization_262\u001b[0m\n",
      "\u001b[31mFalse\u001b[0m\n",
      "\u001b[34mactivation_258\u001b[0m\n",
      "\u001b[31mFalse\u001b[0m\n",
      "\u001b[34mactivation_262\u001b[0m\n",
      "\u001b[31mFalse\u001b[0m\n",
      "\u001b[34mconv2d_259\u001b[0m\n",
      "\u001b[31mFalse\u001b[0m\n",
      "\u001b[34mconv2d_263\u001b[0m\n",
      "\u001b[31mFalse\u001b[0m\n",
      "\u001b[34mbatch_normalization_259\u001b[0m\n",
      "\u001b[31mFalse\u001b[0m\n",
      "\u001b[34mbatch_normalization_263\u001b[0m\n",
      "\u001b[31mFalse\u001b[0m\n",
      "\u001b[34mactivation_259\u001b[0m\n",
      "\u001b[31mFalse\u001b[0m\n",
      "\u001b[34mactivation_263\u001b[0m\n",
      "\u001b[31mFalse\u001b[0m\n",
      "\u001b[34mmax_pooling2d_11\u001b[0m\n",
      "\u001b[31mFalse\u001b[0m\n",
      "\u001b[34mmixed8\u001b[0m\n",
      "\u001b[31mFalse\u001b[0m\n",
      "\u001b[34mconv2d_268\u001b[0m\n",
      "\u001b[31mFalse\u001b[0m\n",
      "\u001b[34mbatch_normalization_268\u001b[0m\n",
      "\u001b[31mFalse\u001b[0m\n",
      "\u001b[34mactivation_268\u001b[0m\n",
      "\u001b[31mFalse\u001b[0m\n",
      "\u001b[34mconv2d_265\u001b[0m\n",
      "\u001b[31mFalse\u001b[0m\n",
      "\u001b[34mconv2d_269\u001b[0m\n",
      "\u001b[31mFalse\u001b[0m\n",
      "\u001b[34mbatch_normalization_265\u001b[0m\n",
      "\u001b[31mFalse\u001b[0m\n",
      "\u001b[34mbatch_normalization_269\u001b[0m\n",
      "\u001b[31mFalse\u001b[0m\n",
      "\u001b[34mactivation_265\u001b[0m\n",
      "\u001b[31mFalse\u001b[0m\n",
      "\u001b[34mactivation_269\u001b[0m\n",
      "\u001b[31mFalse\u001b[0m\n",
      "\u001b[34mconv2d_266\u001b[0m\n",
      "\u001b[31mFalse\u001b[0m\n",
      "\u001b[34mconv2d_267\u001b[0m\n",
      "\u001b[31mFalse\u001b[0m\n",
      "\u001b[34mconv2d_270\u001b[0m\n",
      "\u001b[31mFalse\u001b[0m\n",
      "\u001b[34mconv2d_271\u001b[0m\n",
      "\u001b[31mFalse\u001b[0m\n",
      "\u001b[34maverage_pooling2d_25\u001b[0m\n",
      "\u001b[31mFalse\u001b[0m\n",
      "\u001b[34mconv2d_264\u001b[0m\n",
      "\u001b[31mFalse\u001b[0m\n",
      "\u001b[34mbatch_normalization_266\u001b[0m\n",
      "\u001b[31mFalse\u001b[0m\n",
      "\u001b[34mbatch_normalization_267\u001b[0m\n",
      "\u001b[31mFalse\u001b[0m\n",
      "\u001b[34mbatch_normalization_270\u001b[0m\n",
      "\u001b[31mFalse\u001b[0m\n",
      "\u001b[34mbatch_normalization_271\u001b[0m\n",
      "\u001b[31mFalse\u001b[0m\n",
      "\u001b[34mconv2d_272\u001b[0m\n",
      "\u001b[31mFalse\u001b[0m\n",
      "\u001b[34mbatch_normalization_264\u001b[0m\n",
      "\u001b[31mFalse\u001b[0m\n",
      "\u001b[34mactivation_266\u001b[0m\n",
      "\u001b[31mFalse\u001b[0m\n",
      "\u001b[34mactivation_267\u001b[0m\n",
      "\u001b[31mFalse\u001b[0m\n",
      "\u001b[34mactivation_270\u001b[0m\n",
      "\u001b[31mFalse\u001b[0m\n",
      "\u001b[34mactivation_271\u001b[0m\n",
      "\u001b[31mFalse\u001b[0m\n",
      "\u001b[34mbatch_normalization_272\u001b[0m\n",
      "\u001b[31mFalse\u001b[0m\n",
      "\u001b[34mactivation_264\u001b[0m\n",
      "\u001b[31mFalse\u001b[0m\n",
      "\u001b[34mmixed9_0\u001b[0m\n",
      "\u001b[31mFalse\u001b[0m\n",
      "\u001b[34mconcatenate_4\u001b[0m\n",
      "\u001b[31mFalse\u001b[0m\n",
      "\u001b[34mactivation_272\u001b[0m\n",
      "\u001b[31mFalse\u001b[0m\n",
      "\u001b[34mmixed9\u001b[0m\n",
      "\u001b[31mFalse\u001b[0m\n",
      "\u001b[34mconv2d_277\u001b[0m\n",
      "\u001b[31mFalse\u001b[0m\n",
      "\u001b[34mbatch_normalization_277\u001b[0m\n",
      "\u001b[31mFalse\u001b[0m\n",
      "\u001b[34mactivation_277\u001b[0m\n",
      "\u001b[31mFalse\u001b[0m\n",
      "\u001b[34mconv2d_274\u001b[0m\n",
      "\u001b[31mFalse\u001b[0m\n",
      "\u001b[34mconv2d_278\u001b[0m\n",
      "\u001b[31mFalse\u001b[0m\n",
      "\u001b[34mbatch_normalization_274\u001b[0m\n",
      "\u001b[31mFalse\u001b[0m\n",
      "\u001b[34mbatch_normalization_278\u001b[0m\n",
      "\u001b[31mFalse\u001b[0m\n",
      "\u001b[34mactivation_274\u001b[0m\n",
      "\u001b[31mFalse\u001b[0m\n",
      "\u001b[34mactivation_278\u001b[0m\n",
      "\u001b[31mFalse\u001b[0m\n",
      "\u001b[34mconv2d_275\u001b[0m\n",
      "\u001b[31mFalse\u001b[0m\n",
      "\u001b[34mconv2d_276\u001b[0m\n",
      "\u001b[31mFalse\u001b[0m\n",
      "\u001b[34mconv2d_279\u001b[0m\n",
      "\u001b[31mFalse\u001b[0m\n",
      "\u001b[34mconv2d_280\u001b[0m\n",
      "\u001b[31mFalse\u001b[0m\n",
      "\u001b[34maverage_pooling2d_26\u001b[0m\n",
      "\u001b[31mFalse\u001b[0m\n",
      "\u001b[34mconv2d_273\u001b[0m\n",
      "\u001b[31mFalse\u001b[0m\n",
      "\u001b[34mbatch_normalization_275\u001b[0m\n",
      "\u001b[31mFalse\u001b[0m\n",
      "\u001b[34mbatch_normalization_276\u001b[0m\n",
      "\u001b[31mFalse\u001b[0m\n",
      "\u001b[34mbatch_normalization_279\u001b[0m\n",
      "\u001b[31mFalse\u001b[0m\n",
      "\u001b[34mbatch_normalization_280\u001b[0m\n",
      "\u001b[31mFalse\u001b[0m\n",
      "\u001b[34mconv2d_281\u001b[0m\n",
      "\u001b[31mFalse\u001b[0m\n",
      "\u001b[34mbatch_normalization_273\u001b[0m\n",
      "\u001b[31mFalse\u001b[0m\n",
      "\u001b[34mactivation_275\u001b[0m\n",
      "\u001b[31mFalse\u001b[0m\n",
      "\u001b[34mactivation_276\u001b[0m\n",
      "\u001b[31mFalse\u001b[0m\n",
      "\u001b[34mactivation_279\u001b[0m\n",
      "\u001b[31mFalse\u001b[0m\n",
      "\u001b[34mactivation_280\u001b[0m\n",
      "\u001b[31mFalse\u001b[0m\n",
      "\u001b[34mbatch_normalization_281\u001b[0m\n",
      "\u001b[31mFalse\u001b[0m\n",
      "\u001b[34mactivation_273\u001b[0m\n",
      "\u001b[31mFalse\u001b[0m\n",
      "\u001b[34mmixed9_1\u001b[0m\n",
      "\u001b[31mTrue\u001b[0m\n",
      "\u001b[34mconcatenate_5\u001b[0m\n",
      "\u001b[31mTrue\u001b[0m\n",
      "\u001b[34mactivation_281\u001b[0m\n",
      "\u001b[31mTrue\u001b[0m\n",
      "\u001b[34mmixed10\u001b[0m\n",
      "\u001b[31mTrue\u001b[0m\n"
     ]
    }
   ],
   "source": [
    "#Module to print colourful statements\n",
    "from termcolor import colored\n",
    "\n",
    "#Check which layers have been frozen \n",
    "for layer in inception_model.layers:\n",
    "  print (colored(layer.name, 'blue'))\n",
    "  print (colored(layer.trainable, 'red'))\n",
    "\n",
    "model = tf.keras.models.Sequential()\n",
    "model.add(inception_model)\n",
    "model.add(tf.keras.layers.Flatten())\n",
    "model.add(tf.keras.layers.Dense(128, activation='relu'))\n",
    "model.add(tf.keras.layers.Dense(1, activation='sigmoid'))"
   ]
  },
  {
   "cell_type": "code",
   "execution_count": 28,
   "metadata": {
    "colab": {
     "base_uri": "https://localhost:8080/"
    },
    "executionInfo": {
     "elapsed": 11,
     "status": "ok",
     "timestamp": 1645452026606,
     "user": {
      "displayName": "ritesh kagale",
      "photoUrl": "https://lh3.googleusercontent.com/a-/AOh14GiUE0PpLBQEM5krVmODNfA-dkFMCloyFDWUW4oxlw=s64",
      "userId": "13718708720698209660"
     },
     "user_tz": -330
    },
    "id": "tMwbSy7-iptF",
    "outputId": "250151d3-4743-4c68-a575-2cc3640657af"
   },
   "outputs": [
    {
     "name": "stdout",
     "output_type": "stream",
     "text": [
      "Model: \"sequential_2\"\n",
      "_________________________________________________________________\n",
      " Layer (type)                Output Shape              Param #   \n",
      "=================================================================\n",
      " inception_v3 (Functional)   (None, 4, 4, 2048)        21802784  \n",
      "                                                                 \n",
      " flatten_2 (Flatten)         (None, 32768)             0         \n",
      "                                                                 \n",
      " dense_4 (Dense)             (None, 128)               4194432   \n",
      "                                                                 \n",
      " dense_5 (Dense)             (None, 1)                 129       \n",
      "                                                                 \n",
      "=================================================================\n",
      "Total params: 25,997,345\n",
      "Trainable params: 4,194,561\n",
      "Non-trainable params: 21,802,784\n",
      "_________________________________________________________________\n"
     ]
    }
   ],
   "source": [
    "model.summary()"
   ]
  },
  {
   "cell_type": "markdown",
   "metadata": {
    "id": "D6XkI90snSDl"
   },
   "source": [
    "## Part 3 - Training the CNN"
   ]
  },
  {
   "cell_type": "code",
   "execution_count": 29,
   "metadata": {
    "executionInfo": {
     "elapsed": 3,
     "status": "ok",
     "timestamp": 1645452029190,
     "user": {
      "displayName": "ritesh kagale",
      "photoUrl": "https://lh3.googleusercontent.com/a-/AOh14GiUE0PpLBQEM5krVmODNfA-dkFMCloyFDWUW4oxlw=s64",
      "userId": "13718708720698209660"
     },
     "user_tz": -330
    },
    "id": "QGwDRW27iwfc"
   },
   "outputs": [],
   "source": [
    "cnn = model"
   ]
  },
  {
   "cell_type": "markdown",
   "metadata": {
    "id": "vfrFQACEnc6i"
   },
   "source": [
    "### Compiling the CNN"
   ]
  },
  {
   "cell_type": "code",
   "execution_count": 30,
   "metadata": {
    "executionInfo": {
     "elapsed": 4,
     "status": "ok",
     "timestamp": 1645452030868,
     "user": {
      "displayName": "ritesh kagale",
      "photoUrl": "https://lh3.googleusercontent.com/a-/AOh14GiUE0PpLBQEM5krVmODNfA-dkFMCloyFDWUW4oxlw=s64",
      "userId": "13718708720698209660"
     },
     "user_tz": -330
    },
    "id": "NALksrNQpUlJ"
   },
   "outputs": [],
   "source": [
    "cnn.compile(optimizer = 'adam', loss = 'binary_crossentropy', metrics = ['accuracy'])"
   ]
  },
  {
   "cell_type": "code",
   "execution_count": 31,
   "metadata": {},
   "outputs": [],
   "source": [
    "STEP_SIZE_TRAIN=training_set.n//training_set.batch_size\n",
    "STEP_SIZE_VALID=test_set.n//test_set.batch_size"
   ]
  },
  {
   "cell_type": "markdown",
   "metadata": {
    "id": "ehS-v3MIpX2h"
   },
   "source": [
    "### Training the CNN on the Training set and evaluating it on the Test set"
   ]
  },
  {
   "cell_type": "code",
   "execution_count": 32,
   "metadata": {
    "colab": {
     "base_uri": "https://localhost:8080/"
    },
    "id": "XUj1W4PJptta",
    "outputId": "669582f7-d103-4b3a-d006-3b8a5449862a"
   },
   "outputs": [
    {
     "name": "stdout",
     "output_type": "stream",
     "text": [
      "Epoch 1/10\n",
      "21/21 [==============================] - 168s 6s/step - loss: 3.8310 - accuracy: 0.6348\n",
      "Epoch 2/10\n",
      "21/21 [==============================] - 75s 3s/step - loss: 0.3684 - accuracy: 0.8712\n",
      "Epoch 3/10\n",
      "21/21 [==============================] - 95s 5s/step - loss: 0.1964 - accuracy: 0.9348\n",
      "Epoch 4/10\n",
      "21/21 [==============================] - 89s 4s/step - loss: 0.1472 - accuracy: 0.9439\n",
      "Epoch 5/10\n",
      "21/21 [==============================] - 58s 3s/step - loss: 0.1120 - accuracy: 0.9576\n",
      "Epoch 6/10\n",
      "21/21 [==============================] - 47s 2s/step - loss: 0.1203 - accuracy: 0.9524\n",
      "Epoch 7/10\n",
      "21/21 [==============================] - 43s 2s/step - loss: 0.0921 - accuracy: 0.9667\n",
      "Epoch 8/10\n",
      "21/21 [==============================] - 44s 2s/step - loss: 0.0674 - accuracy: 0.9758\n",
      "Epoch 9/10\n",
      "21/21 [==============================] - 51s 2s/step - loss: 0.0473 - accuracy: 0.9836\n",
      "Epoch 10/10\n",
      "21/21 [==============================] - 63s 3s/step - loss: 0.0474 - accuracy: 0.9833\n"
     ]
    },
    {
     "data": {
      "text/plain": [
       "<keras.callbacks.History at 0x18c0f6cfb80>"
      ]
     },
     "execution_count": 32,
     "metadata": {},
     "output_type": "execute_result"
    }
   ],
   "source": [
    "cnn.fit(training_set, steps_per_epoch =STEP_SIZE_TRAIN, epochs= 10, verbose=True)"
   ]
  },
  {
   "cell_type": "markdown",
   "metadata": {
    "id": "U3PZasO0006Z"
   },
   "source": [
    "## Part 4 - Making a single prediction"
   ]
  },
  {
   "cell_type": "code",
   "execution_count": 36,
   "metadata": {
    "id": "gsSiWEJY1BPB"
   },
   "outputs": [
    {
     "name": "stdout",
     "output_type": "stream",
     "text": [
      "Predator\n"
     ]
    }
   ],
   "source": [
    "import numpy as np\n",
    "from keras.preprocessing import image\n",
    "test_image = image.load_img('F:/study matrials/2022/Convolution Neural Network/CNN Projects/CNN Binary Classification/Alien vs Predator/dataset/sample/p1.jpg', target_size = (200, 200))\n",
    "test_image = image.img_to_array(test_image)\n",
    "test_image = np.expand_dims(test_image, axis = 0)\n",
    "result = cnn.predict(test_image)\n",
    "#print(training_set.class_indices)\n",
    "#print(result)\n",
    "if result[0][0] == 1:\n",
    "  prediction = 'Predator'\n",
    "else:\n",
    "  prediction = 'Alien'\n",
    "print(prediction)"
   ]
  },
  {
   "cell_type": "code",
   "execution_count": null,
   "metadata": {},
   "outputs": [],
   "source": []
  }
 ],
 "metadata": {
  "accelerator": "GPU",
  "colab": {
   "collapsed_sections": [],
   "name": "Copy of Cat or Dog classification using CNN.ipynb",
   "provenance": []
  },
  "kernelspec": {
   "display_name": "Python 3 (ipykernel)",
   "language": "python",
   "name": "python3"
  },
  "language_info": {
   "codemirror_mode": {
    "name": "ipython",
    "version": 3
   },
   "file_extension": ".py",
   "mimetype": "text/x-python",
   "name": "python",
   "nbconvert_exporter": "python",
   "pygments_lexer": "ipython3",
   "version": "3.9.7"
  }
 },
 "nbformat": 4,
 "nbformat_minor": 1
}
