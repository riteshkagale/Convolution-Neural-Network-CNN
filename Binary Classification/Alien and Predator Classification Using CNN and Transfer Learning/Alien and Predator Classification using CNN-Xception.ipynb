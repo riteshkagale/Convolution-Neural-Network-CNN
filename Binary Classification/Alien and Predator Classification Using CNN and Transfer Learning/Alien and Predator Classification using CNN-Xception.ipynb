{
 "cells": [
  {
   "cell_type": "markdown",
   "metadata": {
    "id": "3DR-eO17geWu"
   },
   "source": [
    "# Convolutional Neural Network"
   ]
  },
  {
   "cell_type": "markdown",
   "metadata": {
    "id": "EMefrVPCg-60"
   },
   "source": [
    "### Importing the libraries"
   ]
  },
  {
   "cell_type": "code",
   "execution_count": 1,
   "metadata": {
    "id": "sCV30xyVhFbE"
   },
   "outputs": [],
   "source": [
    "import tensorflow as tf\n",
    "from keras.preprocessing.image import ImageDataGenerator"
   ]
  },
  {
   "cell_type": "code",
   "execution_count": 2,
   "metadata": {
    "colab": {
     "base_uri": "https://localhost:8080/",
     "height": 35
    },
    "executionInfo": {
     "elapsed": 491,
     "status": "ok",
     "timestamp": 1645451015601,
     "user": {
      "displayName": "ritesh kagale",
      "photoUrl": "https://lh3.googleusercontent.com/a-/AOh14GiUE0PpLBQEM5krVmODNfA-dkFMCloyFDWUW4oxlw=s64",
      "userId": "13718708720698209660"
     },
     "user_tz": -330
    },
    "id": "FIleuCAjoFD8",
    "outputId": "d1109172-a656-43b7-ef87-ca9c6d28f46b"
   },
   "outputs": [
    {
     "data": {
      "text/plain": [
       "'2.8.0'"
      ]
     },
     "execution_count": 2,
     "metadata": {},
     "output_type": "execute_result"
    }
   ],
   "source": [
    "tf.__version__"
   ]
  },
  {
   "cell_type": "markdown",
   "metadata": {
    "id": "oxQxCBWyoGPE"
   },
   "source": [
    "## Part 1 - Data Preprocessing"
   ]
  },
  {
   "cell_type": "markdown",
   "metadata": {
    "id": "MvE-heJNo3GG"
   },
   "source": [
    "### Preprocessing the Training set"
   ]
  },
  {
   "cell_type": "code",
   "execution_count": 3,
   "metadata": {
    "colab": {
     "base_uri": "https://localhost:8080/"
    },
    "executionInfo": {
     "elapsed": 25821,
     "status": "ok",
     "timestamp": 1645451090213,
     "user": {
      "displayName": "ritesh kagale",
      "photoUrl": "https://lh3.googleusercontent.com/a-/AOh14GiUE0PpLBQEM5krVmODNfA-dkFMCloyFDWUW4oxlw=s64",
      "userId": "13718708720698209660"
     },
     "user_tz": -330
    },
    "id": "0koUcJMJpEBD",
    "outputId": "99a32187-143c-4638-dc98-8a6b14ea971c"
   },
   "outputs": [
    {
     "name": "stdout",
     "output_type": "stream",
     "text": [
      "Found 692 images belonging to 2 classes.\n"
     ]
    }
   ],
   "source": [
    "train_datagen = ImageDataGenerator(rescale = 1./255,\n",
    "                                   shear_range = 0.2,\n",
    "                                   zoom_range = 0.2,\n",
    "                                   horizontal_flip = True)\n",
    "training_set = train_datagen.flow_from_directory('F:/study matrials/2022/Convolution Neural Network/CNN Projects/CNN Binary Classification/Alien vs Predator/dataset/train/',\n",
    "                                                 target_size = (299,299),\n",
    "                                                 batch_size = 32,\n",
    "                                                 class_mode = 'binary')"
   ]
  },
  {
   "cell_type": "code",
   "execution_count": 4,
   "metadata": {},
   "outputs": [
    {
     "data": {
      "text/plain": [
       "{'alien': 0, 'predator': 1}"
      ]
     },
     "execution_count": 4,
     "metadata": {},
     "output_type": "execute_result"
    }
   ],
   "source": [
    "training_set.class_indices"
   ]
  },
  {
   "cell_type": "markdown",
   "metadata": {
    "id": "mrCMmGw9pHys"
   },
   "source": [
    "### Preprocessing the Test set"
   ]
  },
  {
   "cell_type": "code",
   "execution_count": 5,
   "metadata": {
    "colab": {
     "base_uri": "https://localhost:8080/"
    },
    "executionInfo": {
     "elapsed": 4980,
     "status": "ok",
     "timestamp": 1645451095187,
     "user": {
      "displayName": "ritesh kagale",
      "photoUrl": "https://lh3.googleusercontent.com/a-/AOh14GiUE0PpLBQEM5krVmODNfA-dkFMCloyFDWUW4oxlw=s64",
      "userId": "13718708720698209660"
     },
     "user_tz": -330
    },
    "id": "SH4WzfOhpKc3",
    "outputId": "e4a0156c-f321-45f8-c128-20cf9fbbbb6d"
   },
   "outputs": [
    {
     "name": "stdout",
     "output_type": "stream",
     "text": [
      "Found 200 images belonging to 2 classes.\n"
     ]
    }
   ],
   "source": [
    "test_datagen = ImageDataGenerator(rescale = 1./255)\n",
    "test_set = test_datagen.flow_from_directory('F:/study matrials/2022/Convolution Neural Network/CNN Projects/CNN Binary Classification/Alien vs Predator/dataset/validation',\n",
    "                                            target_size = (299,299),\n",
    "                                            batch_size = 32,\n",
    "                                            class_mode = 'binary')"
   ]
  },
  {
   "cell_type": "code",
   "execution_count": 6,
   "metadata": {
    "colab": {
     "base_uri": "https://localhost:8080/"
    },
    "executionInfo": {
     "elapsed": 3926,
     "status": "ok",
     "timestamp": 1645451155585,
     "user": {
      "displayName": "ritesh kagale",
      "photoUrl": "https://lh3.googleusercontent.com/a-/AOh14GiUE0PpLBQEM5krVmODNfA-dkFMCloyFDWUW4oxlw=s64",
      "userId": "13718708720698209660"
     },
     "user_tz": -330
    },
    "id": "xug5QYjwhzf5",
    "outputId": "36042bec-258f-4fa4-ad0f-b7c393e9135c"
   },
   "outputs": [],
   "source": [
    "xception_model = tf.keras.applications.Xception(weights='imagenet', include_top=False, input_tensor=tf.keras.layers.Input(shape=(299,299,3)))"
   ]
  },
  {
   "cell_type": "code",
   "execution_count": 7,
   "metadata": {
    "id": "ehNFiH23iJpR"
   },
   "outputs": [],
   "source": [
    "for layer in xception_model.layers[:-4]:\n",
    "    layer.trainable = False"
   ]
  },
  {
   "cell_type": "code",
   "execution_count": 8,
   "metadata": {
    "colab": {
     "base_uri": "https://localhost:8080/"
    },
    "executionInfo": {
     "elapsed": 6,
     "status": "ok",
     "timestamp": 1645452023266,
     "user": {
      "displayName": "ritesh kagale",
      "photoUrl": "https://lh3.googleusercontent.com/a-/AOh14GiUE0PpLBQEM5krVmODNfA-dkFMCloyFDWUW4oxlw=s64",
      "userId": "13718708720698209660"
     },
     "user_tz": -330
    },
    "id": "fPIS2qxwiM5J",
    "outputId": "0925d9e4-8739-4eac-f832-786d7e8e6f92"
   },
   "outputs": [
    {
     "name": "stdout",
     "output_type": "stream",
     "text": [
      "\u001b[34minput_1\u001b[0m\n",
      "\u001b[31mFalse\u001b[0m\n",
      "\u001b[34mblock1_conv1\u001b[0m\n",
      "\u001b[31mFalse\u001b[0m\n",
      "\u001b[34mblock1_conv1_bn\u001b[0m\n",
      "\u001b[31mFalse\u001b[0m\n",
      "\u001b[34mblock1_conv1_act\u001b[0m\n",
      "\u001b[31mFalse\u001b[0m\n",
      "\u001b[34mblock1_conv2\u001b[0m\n",
      "\u001b[31mFalse\u001b[0m\n",
      "\u001b[34mblock1_conv2_bn\u001b[0m\n",
      "\u001b[31mFalse\u001b[0m\n",
      "\u001b[34mblock1_conv2_act\u001b[0m\n",
      "\u001b[31mFalse\u001b[0m\n",
      "\u001b[34mblock2_sepconv1\u001b[0m\n",
      "\u001b[31mFalse\u001b[0m\n",
      "\u001b[34mblock2_sepconv1_bn\u001b[0m\n",
      "\u001b[31mFalse\u001b[0m\n",
      "\u001b[34mblock2_sepconv2_act\u001b[0m\n",
      "\u001b[31mFalse\u001b[0m\n",
      "\u001b[34mblock2_sepconv2\u001b[0m\n",
      "\u001b[31mFalse\u001b[0m\n",
      "\u001b[34mblock2_sepconv2_bn\u001b[0m\n",
      "\u001b[31mFalse\u001b[0m\n",
      "\u001b[34mconv2d\u001b[0m\n",
      "\u001b[31mFalse\u001b[0m\n",
      "\u001b[34mblock2_pool\u001b[0m\n",
      "\u001b[31mFalse\u001b[0m\n",
      "\u001b[34mbatch_normalization\u001b[0m\n",
      "\u001b[31mFalse\u001b[0m\n",
      "\u001b[34madd\u001b[0m\n",
      "\u001b[31mFalse\u001b[0m\n",
      "\u001b[34mblock3_sepconv1_act\u001b[0m\n",
      "\u001b[31mFalse\u001b[0m\n",
      "\u001b[34mblock3_sepconv1\u001b[0m\n",
      "\u001b[31mFalse\u001b[0m\n",
      "\u001b[34mblock3_sepconv1_bn\u001b[0m\n",
      "\u001b[31mFalse\u001b[0m\n",
      "\u001b[34mblock3_sepconv2_act\u001b[0m\n",
      "\u001b[31mFalse\u001b[0m\n",
      "\u001b[34mblock3_sepconv2\u001b[0m\n",
      "\u001b[31mFalse\u001b[0m\n",
      "\u001b[34mblock3_sepconv2_bn\u001b[0m\n",
      "\u001b[31mFalse\u001b[0m\n",
      "\u001b[34mconv2d_1\u001b[0m\n",
      "\u001b[31mFalse\u001b[0m\n",
      "\u001b[34mblock3_pool\u001b[0m\n",
      "\u001b[31mFalse\u001b[0m\n",
      "\u001b[34mbatch_normalization_1\u001b[0m\n",
      "\u001b[31mFalse\u001b[0m\n",
      "\u001b[34madd_1\u001b[0m\n",
      "\u001b[31mFalse\u001b[0m\n",
      "\u001b[34mblock4_sepconv1_act\u001b[0m\n",
      "\u001b[31mFalse\u001b[0m\n",
      "\u001b[34mblock4_sepconv1\u001b[0m\n",
      "\u001b[31mFalse\u001b[0m\n",
      "\u001b[34mblock4_sepconv1_bn\u001b[0m\n",
      "\u001b[31mFalse\u001b[0m\n",
      "\u001b[34mblock4_sepconv2_act\u001b[0m\n",
      "\u001b[31mFalse\u001b[0m\n",
      "\u001b[34mblock4_sepconv2\u001b[0m\n",
      "\u001b[31mFalse\u001b[0m\n",
      "\u001b[34mblock4_sepconv2_bn\u001b[0m\n",
      "\u001b[31mFalse\u001b[0m\n",
      "\u001b[34mconv2d_2\u001b[0m\n",
      "\u001b[31mFalse\u001b[0m\n",
      "\u001b[34mblock4_pool\u001b[0m\n",
      "\u001b[31mFalse\u001b[0m\n",
      "\u001b[34mbatch_normalization_2\u001b[0m\n",
      "\u001b[31mFalse\u001b[0m\n",
      "\u001b[34madd_2\u001b[0m\n",
      "\u001b[31mFalse\u001b[0m\n",
      "\u001b[34mblock5_sepconv1_act\u001b[0m\n",
      "\u001b[31mFalse\u001b[0m\n",
      "\u001b[34mblock5_sepconv1\u001b[0m\n",
      "\u001b[31mFalse\u001b[0m\n",
      "\u001b[34mblock5_sepconv1_bn\u001b[0m\n",
      "\u001b[31mFalse\u001b[0m\n",
      "\u001b[34mblock5_sepconv2_act\u001b[0m\n",
      "\u001b[31mFalse\u001b[0m\n",
      "\u001b[34mblock5_sepconv2\u001b[0m\n",
      "\u001b[31mFalse\u001b[0m\n",
      "\u001b[34mblock5_sepconv2_bn\u001b[0m\n",
      "\u001b[31mFalse\u001b[0m\n",
      "\u001b[34mblock5_sepconv3_act\u001b[0m\n",
      "\u001b[31mFalse\u001b[0m\n",
      "\u001b[34mblock5_sepconv3\u001b[0m\n",
      "\u001b[31mFalse\u001b[0m\n",
      "\u001b[34mblock5_sepconv3_bn\u001b[0m\n",
      "\u001b[31mFalse\u001b[0m\n",
      "\u001b[34madd_3\u001b[0m\n",
      "\u001b[31mFalse\u001b[0m\n",
      "\u001b[34mblock6_sepconv1_act\u001b[0m\n",
      "\u001b[31mFalse\u001b[0m\n",
      "\u001b[34mblock6_sepconv1\u001b[0m\n",
      "\u001b[31mFalse\u001b[0m\n",
      "\u001b[34mblock6_sepconv1_bn\u001b[0m\n",
      "\u001b[31mFalse\u001b[0m\n",
      "\u001b[34mblock6_sepconv2_act\u001b[0m\n",
      "\u001b[31mFalse\u001b[0m\n",
      "\u001b[34mblock6_sepconv2\u001b[0m\n",
      "\u001b[31mFalse\u001b[0m\n",
      "\u001b[34mblock6_sepconv2_bn\u001b[0m\n",
      "\u001b[31mFalse\u001b[0m\n",
      "\u001b[34mblock6_sepconv3_act\u001b[0m\n",
      "\u001b[31mFalse\u001b[0m\n",
      "\u001b[34mblock6_sepconv3\u001b[0m\n",
      "\u001b[31mFalse\u001b[0m\n",
      "\u001b[34mblock6_sepconv3_bn\u001b[0m\n",
      "\u001b[31mFalse\u001b[0m\n",
      "\u001b[34madd_4\u001b[0m\n",
      "\u001b[31mFalse\u001b[0m\n",
      "\u001b[34mblock7_sepconv1_act\u001b[0m\n",
      "\u001b[31mFalse\u001b[0m\n",
      "\u001b[34mblock7_sepconv1\u001b[0m\n",
      "\u001b[31mFalse\u001b[0m\n",
      "\u001b[34mblock7_sepconv1_bn\u001b[0m\n",
      "\u001b[31mFalse\u001b[0m\n",
      "\u001b[34mblock7_sepconv2_act\u001b[0m\n",
      "\u001b[31mFalse\u001b[0m\n",
      "\u001b[34mblock7_sepconv2\u001b[0m\n",
      "\u001b[31mFalse\u001b[0m\n",
      "\u001b[34mblock7_sepconv2_bn\u001b[0m\n",
      "\u001b[31mFalse\u001b[0m\n",
      "\u001b[34mblock7_sepconv3_act\u001b[0m\n",
      "\u001b[31mFalse\u001b[0m\n",
      "\u001b[34mblock7_sepconv3\u001b[0m\n",
      "\u001b[31mFalse\u001b[0m\n",
      "\u001b[34mblock7_sepconv3_bn\u001b[0m\n",
      "\u001b[31mFalse\u001b[0m\n",
      "\u001b[34madd_5\u001b[0m\n",
      "\u001b[31mFalse\u001b[0m\n",
      "\u001b[34mblock8_sepconv1_act\u001b[0m\n",
      "\u001b[31mFalse\u001b[0m\n",
      "\u001b[34mblock8_sepconv1\u001b[0m\n",
      "\u001b[31mFalse\u001b[0m\n",
      "\u001b[34mblock8_sepconv1_bn\u001b[0m\n",
      "\u001b[31mFalse\u001b[0m\n",
      "\u001b[34mblock8_sepconv2_act\u001b[0m\n",
      "\u001b[31mFalse\u001b[0m\n",
      "\u001b[34mblock8_sepconv2\u001b[0m\n",
      "\u001b[31mFalse\u001b[0m\n",
      "\u001b[34mblock8_sepconv2_bn\u001b[0m\n",
      "\u001b[31mFalse\u001b[0m\n",
      "\u001b[34mblock8_sepconv3_act\u001b[0m\n",
      "\u001b[31mFalse\u001b[0m\n",
      "\u001b[34mblock8_sepconv3\u001b[0m\n",
      "\u001b[31mFalse\u001b[0m\n",
      "\u001b[34mblock8_sepconv3_bn\u001b[0m\n",
      "\u001b[31mFalse\u001b[0m\n",
      "\u001b[34madd_6\u001b[0m\n",
      "\u001b[31mFalse\u001b[0m\n",
      "\u001b[34mblock9_sepconv1_act\u001b[0m\n",
      "\u001b[31mFalse\u001b[0m\n",
      "\u001b[34mblock9_sepconv1\u001b[0m\n",
      "\u001b[31mFalse\u001b[0m\n",
      "\u001b[34mblock9_sepconv1_bn\u001b[0m\n",
      "\u001b[31mFalse\u001b[0m\n",
      "\u001b[34mblock9_sepconv2_act\u001b[0m\n",
      "\u001b[31mFalse\u001b[0m\n",
      "\u001b[34mblock9_sepconv2\u001b[0m\n",
      "\u001b[31mFalse\u001b[0m\n",
      "\u001b[34mblock9_sepconv2_bn\u001b[0m\n",
      "\u001b[31mFalse\u001b[0m\n",
      "\u001b[34mblock9_sepconv3_act\u001b[0m\n",
      "\u001b[31mFalse\u001b[0m\n",
      "\u001b[34mblock9_sepconv3\u001b[0m\n",
      "\u001b[31mFalse\u001b[0m\n",
      "\u001b[34mblock9_sepconv3_bn\u001b[0m\n",
      "\u001b[31mFalse\u001b[0m\n",
      "\u001b[34madd_7\u001b[0m\n",
      "\u001b[31mFalse\u001b[0m\n",
      "\u001b[34mblock10_sepconv1_act\u001b[0m\n",
      "\u001b[31mFalse\u001b[0m\n",
      "\u001b[34mblock10_sepconv1\u001b[0m\n",
      "\u001b[31mFalse\u001b[0m\n",
      "\u001b[34mblock10_sepconv1_bn\u001b[0m\n",
      "\u001b[31mFalse\u001b[0m\n",
      "\u001b[34mblock10_sepconv2_act\u001b[0m\n",
      "\u001b[31mFalse\u001b[0m\n",
      "\u001b[34mblock10_sepconv2\u001b[0m\n",
      "\u001b[31mFalse\u001b[0m\n",
      "\u001b[34mblock10_sepconv2_bn\u001b[0m\n",
      "\u001b[31mFalse\u001b[0m\n",
      "\u001b[34mblock10_sepconv3_act\u001b[0m\n",
      "\u001b[31mFalse\u001b[0m\n",
      "\u001b[34mblock10_sepconv3\u001b[0m\n",
      "\u001b[31mFalse\u001b[0m\n",
      "\u001b[34mblock10_sepconv3_bn\u001b[0m\n",
      "\u001b[31mFalse\u001b[0m\n",
      "\u001b[34madd_8\u001b[0m\n",
      "\u001b[31mFalse\u001b[0m\n",
      "\u001b[34mblock11_sepconv1_act\u001b[0m\n",
      "\u001b[31mFalse\u001b[0m\n",
      "\u001b[34mblock11_sepconv1\u001b[0m\n",
      "\u001b[31mFalse\u001b[0m\n",
      "\u001b[34mblock11_sepconv1_bn\u001b[0m\n",
      "\u001b[31mFalse\u001b[0m\n",
      "\u001b[34mblock11_sepconv2_act\u001b[0m\n",
      "\u001b[31mFalse\u001b[0m\n",
      "\u001b[34mblock11_sepconv2\u001b[0m\n",
      "\u001b[31mFalse\u001b[0m\n",
      "\u001b[34mblock11_sepconv2_bn\u001b[0m\n",
      "\u001b[31mFalse\u001b[0m\n",
      "\u001b[34mblock11_sepconv3_act\u001b[0m\n",
      "\u001b[31mFalse\u001b[0m\n",
      "\u001b[34mblock11_sepconv3\u001b[0m\n",
      "\u001b[31mFalse\u001b[0m\n",
      "\u001b[34mblock11_sepconv3_bn\u001b[0m\n",
      "\u001b[31mFalse\u001b[0m\n",
      "\u001b[34madd_9\u001b[0m\n",
      "\u001b[31mFalse\u001b[0m\n",
      "\u001b[34mblock12_sepconv1_act\u001b[0m\n",
      "\u001b[31mFalse\u001b[0m\n",
      "\u001b[34mblock12_sepconv1\u001b[0m\n",
      "\u001b[31mFalse\u001b[0m\n",
      "\u001b[34mblock12_sepconv1_bn\u001b[0m\n",
      "\u001b[31mFalse\u001b[0m\n",
      "\u001b[34mblock12_sepconv2_act\u001b[0m\n",
      "\u001b[31mFalse\u001b[0m\n",
      "\u001b[34mblock12_sepconv2\u001b[0m\n",
      "\u001b[31mFalse\u001b[0m\n",
      "\u001b[34mblock12_sepconv2_bn\u001b[0m\n",
      "\u001b[31mFalse\u001b[0m\n",
      "\u001b[34mblock12_sepconv3_act\u001b[0m\n",
      "\u001b[31mFalse\u001b[0m\n",
      "\u001b[34mblock12_sepconv3\u001b[0m\n",
      "\u001b[31mFalse\u001b[0m\n",
      "\u001b[34mblock12_sepconv3_bn\u001b[0m\n",
      "\u001b[31mFalse\u001b[0m\n",
      "\u001b[34madd_10\u001b[0m\n",
      "\u001b[31mFalse\u001b[0m\n",
      "\u001b[34mblock13_sepconv1_act\u001b[0m\n",
      "\u001b[31mFalse\u001b[0m\n",
      "\u001b[34mblock13_sepconv1\u001b[0m\n",
      "\u001b[31mFalse\u001b[0m\n",
      "\u001b[34mblock13_sepconv1_bn\u001b[0m\n",
      "\u001b[31mFalse\u001b[0m\n",
      "\u001b[34mblock13_sepconv2_act\u001b[0m\n",
      "\u001b[31mFalse\u001b[0m\n",
      "\u001b[34mblock13_sepconv2\u001b[0m\n",
      "\u001b[31mFalse\u001b[0m\n",
      "\u001b[34mblock13_sepconv2_bn\u001b[0m\n",
      "\u001b[31mFalse\u001b[0m\n",
      "\u001b[34mconv2d_3\u001b[0m\n",
      "\u001b[31mFalse\u001b[0m\n",
      "\u001b[34mblock13_pool\u001b[0m\n",
      "\u001b[31mFalse\u001b[0m\n",
      "\u001b[34mbatch_normalization_3\u001b[0m\n",
      "\u001b[31mFalse\u001b[0m\n",
      "\u001b[34madd_11\u001b[0m\n",
      "\u001b[31mFalse\u001b[0m\n",
      "\u001b[34mblock14_sepconv1\u001b[0m\n",
      "\u001b[31mFalse\u001b[0m\n",
      "\u001b[34mblock14_sepconv1_bn\u001b[0m\n",
      "\u001b[31mFalse\u001b[0m\n",
      "\u001b[34mblock14_sepconv1_act\u001b[0m\n",
      "\u001b[31mTrue\u001b[0m\n",
      "\u001b[34mblock14_sepconv2\u001b[0m\n",
      "\u001b[31mTrue\u001b[0m\n",
      "\u001b[34mblock14_sepconv2_bn\u001b[0m\n",
      "\u001b[31mTrue\u001b[0m\n",
      "\u001b[34mblock14_sepconv2_act\u001b[0m\n",
      "\u001b[31mTrue\u001b[0m\n"
     ]
    }
   ],
   "source": [
    "#Module to print colourful statements\n",
    "from termcolor import colored\n",
    "\n",
    "#Check which layers have been frozen \n",
    "for layer in xception_model.layers:\n",
    "  print (colored(layer.name, 'blue'))\n",
    "  print (colored(layer.trainable, 'red'))\n",
    "\n",
    "model = tf.keras.models.Sequential()\n",
    "model.add(xception_model)\n",
    "model.add(tf.keras.layers.Flatten())\n",
    "model.add(tf.keras.layers.Dense(128, activation='relu'))\n",
    "model.add(tf.keras.layers.Dense(1, activation='sigmoid'))"
   ]
  },
  {
   "cell_type": "code",
   "execution_count": 9,
   "metadata": {
    "colab": {
     "base_uri": "https://localhost:8080/"
    },
    "executionInfo": {
     "elapsed": 11,
     "status": "ok",
     "timestamp": 1645452026606,
     "user": {
      "displayName": "ritesh kagale",
      "photoUrl": "https://lh3.googleusercontent.com/a-/AOh14GiUE0PpLBQEM5krVmODNfA-dkFMCloyFDWUW4oxlw=s64",
      "userId": "13718708720698209660"
     },
     "user_tz": -330
    },
    "id": "tMwbSy7-iptF",
    "outputId": "250151d3-4743-4c68-a575-2cc3640657af"
   },
   "outputs": [
    {
     "name": "stdout",
     "output_type": "stream",
     "text": [
      "Model: \"sequential\"\n",
      "_________________________________________________________________\n",
      " Layer (type)                Output Shape              Param #   \n",
      "=================================================================\n",
      " xception (Functional)       (None, 10, 10, 2048)      20861480  \n",
      "                                                                 \n",
      " flatten (Flatten)           (None, 204800)            0         \n",
      "                                                                 \n",
      " dense (Dense)               (None, 128)               26214528  \n",
      "                                                                 \n",
      " dense_1 (Dense)             (None, 1)                 129       \n",
      "                                                                 \n",
      "=================================================================\n",
      "Total params: 47,076,137\n",
      "Trainable params: 29,378,305\n",
      "Non-trainable params: 17,697,832\n",
      "_________________________________________________________________\n"
     ]
    }
   ],
   "source": [
    "model.summary()"
   ]
  },
  {
   "cell_type": "markdown",
   "metadata": {
    "id": "D6XkI90snSDl"
   },
   "source": [
    "## Part 3 - Training the CNN"
   ]
  },
  {
   "cell_type": "code",
   "execution_count": 10,
   "metadata": {
    "executionInfo": {
     "elapsed": 3,
     "status": "ok",
     "timestamp": 1645452029190,
     "user": {
      "displayName": "ritesh kagale",
      "photoUrl": "https://lh3.googleusercontent.com/a-/AOh14GiUE0PpLBQEM5krVmODNfA-dkFMCloyFDWUW4oxlw=s64",
      "userId": "13718708720698209660"
     },
     "user_tz": -330
    },
    "id": "QGwDRW27iwfc"
   },
   "outputs": [],
   "source": [
    "cnn = model"
   ]
  },
  {
   "cell_type": "markdown",
   "metadata": {
    "id": "vfrFQACEnc6i"
   },
   "source": [
    "### Compiling the CNN"
   ]
  },
  {
   "cell_type": "code",
   "execution_count": 11,
   "metadata": {
    "executionInfo": {
     "elapsed": 4,
     "status": "ok",
     "timestamp": 1645452030868,
     "user": {
      "displayName": "ritesh kagale",
      "photoUrl": "https://lh3.googleusercontent.com/a-/AOh14GiUE0PpLBQEM5krVmODNfA-dkFMCloyFDWUW4oxlw=s64",
      "userId": "13718708720698209660"
     },
     "user_tz": -330
    },
    "id": "NALksrNQpUlJ"
   },
   "outputs": [],
   "source": [
    "cnn.compile(optimizer = 'adam', loss = 'binary_crossentropy', metrics = ['accuracy'])"
   ]
  },
  {
   "cell_type": "code",
   "execution_count": 12,
   "metadata": {},
   "outputs": [],
   "source": [
    "STEP_SIZE_TRAIN=training_set.n//training_set.batch_size\n",
    "STEP_SIZE_VALID=test_set.n//test_set.batch_size"
   ]
  },
  {
   "cell_type": "markdown",
   "metadata": {
    "id": "ehS-v3MIpX2h"
   },
   "source": [
    "### Training the CNN on the Training set and evaluating it on the Test set"
   ]
  },
  {
   "cell_type": "code",
   "execution_count": 13,
   "metadata": {
    "colab": {
     "base_uri": "https://localhost:8080/"
    },
    "id": "XUj1W4PJptta",
    "outputId": "669582f7-d103-4b3a-d006-3b8a5449862a"
   },
   "outputs": [
    {
     "name": "stdout",
     "output_type": "stream",
     "text": [
      "Epoch 1/5\n",
      "21/21 [==============================] - 268s 12s/step - loss: 4.5239 - accuracy: 0.7939\n",
      "Epoch 2/5\n",
      "21/21 [==============================] - 235s 11s/step - loss: 0.3012 - accuracy: 0.9591\n",
      "Epoch 3/5\n",
      "21/21 [==============================] - 231s 11s/step - loss: 0.1374 - accuracy: 0.9727\n",
      "Epoch 4/5\n",
      "21/21 [==============================] - 239s 11s/step - loss: 0.1520 - accuracy: 0.9742\n",
      "Epoch 5/5\n",
      "21/21 [==============================] - 234s 11s/step - loss: 0.0585 - accuracy: 0.9848\n"
     ]
    },
    {
     "data": {
      "text/plain": [
       "<keras.callbacks.History at 0x28156481160>"
      ]
     },
     "execution_count": 13,
     "metadata": {},
     "output_type": "execute_result"
    }
   ],
   "source": [
    "cnn.fit(training_set, steps_per_epoch =STEP_SIZE_TRAIN, epochs= 5, verbose=True)"
   ]
  },
  {
   "cell_type": "markdown",
   "metadata": {
    "id": "U3PZasO0006Z"
   },
   "source": [
    "## Part 4 - Making a single prediction"
   ]
  },
  {
   "cell_type": "code",
   "execution_count": 17,
   "metadata": {
    "id": "gsSiWEJY1BPB"
   },
   "outputs": [
    {
     "name": "stdout",
     "output_type": "stream",
     "text": [
      "Predator\n"
     ]
    }
   ],
   "source": [
    "import numpy as np\n",
    "from keras.preprocessing import image\n",
    "test_image = image.load_img('F:/study matrials/2022/Convolution Neural Network/CNN Projects/CNN Binary Classification/Alien vs Predator/dataset/sample/a2.jpg', target_size = (299,299))\n",
    "test_image = image.img_to_array(test_image)\n",
    "test_image = np.expand_dims(test_image, axis = 0)\n",
    "result = cnn.predict(test_image)\n",
    "#print(training_set.class_indices)\n",
    "#print(result)\n",
    "if result[0][0] == 1:\n",
    "  prediction = 'Predator'\n",
    "else:\n",
    "  prediction = 'Alien'\n",
    "print(prediction)"
   ]
  }
 ],
 "metadata": {
  "accelerator": "GPU",
  "colab": {
   "collapsed_sections": [],
   "name": "Copy of Cat or Dog classification using CNN.ipynb",
   "provenance": []
  },
  "kernelspec": {
   "display_name": "Python 3 (ipykernel)",
   "language": "python",
   "name": "python3"
  },
  "language_info": {
   "codemirror_mode": {
    "name": "ipython",
    "version": 3
   },
   "file_extension": ".py",
   "mimetype": "text/x-python",
   "name": "python",
   "nbconvert_exporter": "python",
   "pygments_lexer": "ipython3",
   "version": "3.9.7"
  }
 },
 "nbformat": 4,
 "nbformat_minor": 1
}
