{
 "cells": [
  {
   "cell_type": "markdown",
   "metadata": {
    "id": "3DR-eO17geWu"
   },
   "source": [
    "# Convolutional Neural Network"
   ]
  },
  {
   "cell_type": "markdown",
   "metadata": {
    "id": "EMefrVPCg-60"
   },
   "source": [
    "### Importing the libraries"
   ]
  },
  {
   "cell_type": "code",
   "execution_count": 1,
   "metadata": {
    "id": "sCV30xyVhFbE"
   },
   "outputs": [],
   "source": [
    "import tensorflow as tf\n",
    "from keras.preprocessing.image import ImageDataGenerator"
   ]
  },
  {
   "cell_type": "code",
   "execution_count": 2,
   "metadata": {
    "colab": {
     "base_uri": "https://localhost:8080/",
     "height": 35
    },
    "executionInfo": {
     "elapsed": 8,
     "status": "ok",
     "timestamp": 1645432931917,
     "user": {
      "displayName": "ritesh kagale",
      "photoUrl": "https://lh3.googleusercontent.com/a-/AOh14GiUE0PpLBQEM5krVmODNfA-dkFMCloyFDWUW4oxlw=s64",
      "userId": "13718708720698209660"
     },
     "user_tz": -330
    },
    "id": "FIleuCAjoFD8",
    "outputId": "8e1f84f9-1afc-4be7-f11d-fe7cb27c793a"
   },
   "outputs": [
    {
     "data": {
      "text/plain": [
       "'2.8.0'"
      ]
     },
     "execution_count": 2,
     "metadata": {},
     "output_type": "execute_result"
    }
   ],
   "source": [
    "tf.__version__"
   ]
  },
  {
   "cell_type": "markdown",
   "metadata": {
    "id": "oxQxCBWyoGPE"
   },
   "source": [
    "## Part 1 - Data Preprocessing"
   ]
  },
  {
   "cell_type": "markdown",
   "metadata": {
    "id": "MvE-heJNo3GG"
   },
   "source": [
    "### Preprocessing the Training set"
   ]
  },
  {
   "cell_type": "code",
   "execution_count": 3,
   "metadata": {
    "colab": {
     "base_uri": "https://localhost:8080/"
    },
    "executionInfo": {
     "elapsed": 25749,
     "status": "ok",
     "timestamp": 1645432985656,
     "user": {
      "displayName": "ritesh kagale",
      "photoUrl": "https://lh3.googleusercontent.com/a-/AOh14GiUE0PpLBQEM5krVmODNfA-dkFMCloyFDWUW4oxlw=s64",
      "userId": "13718708720698209660"
     },
     "user_tz": -330
    },
    "id": "0koUcJMJpEBD",
    "outputId": "35a56795-e8ac-4662-8369-e0d404809393"
   },
   "outputs": [
    {
     "name": "stdout",
     "output_type": "stream",
     "text": [
      "Found 692 images belonging to 2 classes.\n"
     ]
    }
   ],
   "source": [
    "train_datagen = ImageDataGenerator(rescale = 1./255,\n",
    "                                   shear_range = 0.2,\n",
    "                                   zoom_range = 0.2,\n",
    "                                   horizontal_flip = True)\n",
    "training_set = train_datagen.flow_from_directory('F:/study matrials/2022/Convolution Neural Network/CNN Projects/CNN Binary Classification/Alien vs Predator/dataset/train',\n",
    "                                                 target_size = (150, 150),\n",
    "                                                 batch_size = 32,\n",
    "                                                 class_mode = 'binary')"
   ]
  },
  {
   "cell_type": "markdown",
   "metadata": {
    "id": "mrCMmGw9pHys"
   },
   "source": [
    "### Preprocessing the Test set"
   ]
  },
  {
   "cell_type": "code",
   "execution_count": 4,
   "metadata": {
    "colab": {
     "base_uri": "https://localhost:8080/"
    },
    "executionInfo": {
     "elapsed": 6980,
     "status": "ok",
     "timestamp": 1645433005779,
     "user": {
      "displayName": "ritesh kagale",
      "photoUrl": "https://lh3.googleusercontent.com/a-/AOh14GiUE0PpLBQEM5krVmODNfA-dkFMCloyFDWUW4oxlw=s64",
      "userId": "13718708720698209660"
     },
     "user_tz": -330
    },
    "id": "SH4WzfOhpKc3",
    "outputId": "05070e51-4deb-4108-fb56-09f6942c6fca"
   },
   "outputs": [
    {
     "name": "stdout",
     "output_type": "stream",
     "text": [
      "Found 200 images belonging to 2 classes.\n"
     ]
    }
   ],
   "source": [
    "test_datagen = ImageDataGenerator(rescale = 1./255)\n",
    "test_set = test_datagen.flow_from_directory('F:/study matrials/2022/Convolution Neural Network/CNN Projects/CNN Binary Classification/Alien vs Predator/dataset/validation',\n",
    "                                            target_size = (150, 150),\n",
    "                                            batch_size = 32,\n",
    "                                            class_mode = 'binary')"
   ]
  },
  {
   "cell_type": "markdown",
   "metadata": {
    "id": "af8O4l90gk7B"
   },
   "source": [
    "## Part 2 - Building the CNN"
   ]
  },
  {
   "cell_type": "markdown",
   "metadata": {
    "id": "ces1gXY2lmoX"
   },
   "source": [
    "### Initialising the CNN"
   ]
  },
  {
   "cell_type": "code",
   "execution_count": 5,
   "metadata": {
    "id": "SAUt4UMPlhLS"
   },
   "outputs": [],
   "source": [
    "cnn = tf.keras.models.Sequential()"
   ]
  },
  {
   "cell_type": "markdown",
   "metadata": {
    "id": "u5YJj_XMl5LF"
   },
   "source": [
    "### Step 1 - Convolution"
   ]
  },
  {
   "cell_type": "code",
   "execution_count": 6,
   "metadata": {
    "id": "XPzPrMckl-hV"
   },
   "outputs": [],
   "source": [
    "cnn.add(tf.keras.layers.Conv2D(filters=32, kernel_size=3, activation='relu', input_shape=[150, 150, 3]))"
   ]
  },
  {
   "cell_type": "markdown",
   "metadata": {
    "id": "tf87FpvxmNOJ"
   },
   "source": [
    "### Step 2 - Pooling"
   ]
  },
  {
   "cell_type": "code",
   "execution_count": 7,
   "metadata": {
    "id": "ncpqPl69mOac"
   },
   "outputs": [],
   "source": [
    "cnn.add(tf.keras.layers.MaxPool2D(pool_size=2, strides=2))"
   ]
  },
  {
   "cell_type": "markdown",
   "metadata": {
    "id": "xaTOgD8rm4mU"
   },
   "source": [
    "### Adding a second convolutional layer"
   ]
  },
  {
   "cell_type": "code",
   "execution_count": 8,
   "metadata": {
    "id": "i_-FZjn_m8gk"
   },
   "outputs": [],
   "source": [
    "cnn.add(tf.keras.layers.Conv2D(filters=32, kernel_size=3, activation='relu'))\n",
    "cnn.add(tf.keras.layers.MaxPool2D(pool_size=2, strides=2))"
   ]
  },
  {
   "cell_type": "markdown",
   "metadata": {
    "id": "tmiEuvTunKfk"
   },
   "source": [
    "### Step 3 - Flattening"
   ]
  },
  {
   "cell_type": "code",
   "execution_count": 9,
   "metadata": {
    "id": "6AZeOGCvnNZn"
   },
   "outputs": [],
   "source": [
    "cnn.add(tf.keras.layers.Flatten())"
   ]
  },
  {
   "cell_type": "markdown",
   "metadata": {
    "id": "dAoSECOm203v"
   },
   "source": [
    "### Step 4 - Full Connection"
   ]
  },
  {
   "cell_type": "code",
   "execution_count": 10,
   "metadata": {
    "id": "8GtmUlLd26Nq"
   },
   "outputs": [],
   "source": [
    "cnn.add(tf.keras.layers.Dense(units=128, activation='relu'))"
   ]
  },
  {
   "cell_type": "markdown",
   "metadata": {
    "id": "yTldFvbX28Na"
   },
   "source": [
    "### Step 5 - Output Layer"
   ]
  },
  {
   "cell_type": "code",
   "execution_count": 11,
   "metadata": {
    "id": "1p_Zj1Mc3Ko_"
   },
   "outputs": [],
   "source": [
    "cnn.add(tf.keras.layers.Dense(units=1, activation='sigmoid'))"
   ]
  },
  {
   "cell_type": "markdown",
   "metadata": {
    "id": "D6XkI90snSDl"
   },
   "source": [
    "## Part 3 - Training the CNN"
   ]
  },
  {
   "cell_type": "markdown",
   "metadata": {
    "id": "vfrFQACEnc6i"
   },
   "source": [
    "### Compiling the CNN"
   ]
  },
  {
   "cell_type": "code",
   "execution_count": 12,
   "metadata": {
    "id": "NALksrNQpUlJ"
   },
   "outputs": [],
   "source": [
    "cnn.compile(optimizer = 'adam', loss = 'binary_crossentropy', metrics = ['accuracy'])"
   ]
  },
  {
   "cell_type": "markdown",
   "metadata": {
    "id": "ehS-v3MIpX2h"
   },
   "source": [
    "### Training the CNN on the Training set and evaluating it on the Test set"
   ]
  },
  {
   "cell_type": "code",
   "execution_count": 13,
   "metadata": {
    "colab": {
     "base_uri": "https://localhost:8080/"
    },
    "executionInfo": {
     "elapsed": 1963656,
     "status": "ok",
     "timestamp": 1645435733100,
     "user": {
      "displayName": "ritesh kagale",
      "photoUrl": "https://lh3.googleusercontent.com/a-/AOh14GiUE0PpLBQEM5krVmODNfA-dkFMCloyFDWUW4oxlw=s64",
      "userId": "13718708720698209660"
     },
     "user_tz": -330
    },
    "id": "XUj1W4PJptta",
    "outputId": "6c6cd5ee-b48c-4112-a464-4717a119eb59"
   },
   "outputs": [
    {
     "name": "stdout",
     "output_type": "stream",
     "text": [
      "Epoch 1/25\n",
      "22/22 [==============================] - 21s 904ms/step - loss: 1.0091 - accuracy: 0.4957 - val_loss: 0.6744 - val_accuracy: 0.5200\n",
      "Epoch 2/25\n",
      "22/22 [==============================] - 22s 985ms/step - loss: 0.6450 - accuracy: 0.5838 - val_loss: 0.6423 - val_accuracy: 0.6350\n",
      "Epoch 3/25\n",
      "22/22 [==============================] - 26s 1s/step - loss: 0.5962 - accuracy: 0.7081 - val_loss: 0.6800 - val_accuracy: 0.5800\n",
      "Epoch 4/25\n",
      "22/22 [==============================] - 35s 2s/step - loss: 0.5717 - accuracy: 0.7066 - val_loss: 0.7525 - val_accuracy: 0.6000\n",
      "Epoch 5/25\n",
      "22/22 [==============================] - 40s 2s/step - loss: 0.5616 - accuracy: 0.7009 - val_loss: 0.6737 - val_accuracy: 0.6450\n",
      "Epoch 6/25\n",
      "22/22 [==============================] - 35s 2s/step - loss: 0.5298 - accuracy: 0.7298 - val_loss: 0.6427 - val_accuracy: 0.6600\n",
      "Epoch 7/25\n",
      "22/22 [==============================] - 31s 1s/step - loss: 0.5210 - accuracy: 0.7471 - val_loss: 0.6115 - val_accuracy: 0.6750\n",
      "Epoch 8/25\n",
      "22/22 [==============================] - 31s 1s/step - loss: 0.4939 - accuracy: 0.7529 - val_loss: 0.6183 - val_accuracy: 0.6750\n",
      "Epoch 9/25\n",
      "22/22 [==============================] - 33s 1s/step - loss: 0.4698 - accuracy: 0.7760 - val_loss: 0.6148 - val_accuracy: 0.7400\n",
      "Epoch 10/25\n",
      "22/22 [==============================] - 31s 1s/step - loss: 0.4668 - accuracy: 0.7688 - val_loss: 0.6221 - val_accuracy: 0.6700\n",
      "Epoch 11/25\n",
      "22/22 [==============================] - 31s 1s/step - loss: 0.4313 - accuracy: 0.8049 - val_loss: 0.5975 - val_accuracy: 0.7300\n",
      "Epoch 12/25\n",
      "22/22 [==============================] - 31s 1s/step - loss: 0.3911 - accuracy: 0.8223 - val_loss: 0.5197 - val_accuracy: 0.8000\n",
      "Epoch 13/25\n",
      "22/22 [==============================] - 31s 1s/step - loss: 0.4062 - accuracy: 0.8208 - val_loss: 0.5031 - val_accuracy: 0.7900\n",
      "Epoch 14/25\n",
      "22/22 [==============================] - 45s 2s/step - loss: 0.3607 - accuracy: 0.8439 - val_loss: 0.7111 - val_accuracy: 0.6700\n",
      "Epoch 15/25\n",
      "22/22 [==============================] - 33s 1s/step - loss: 0.3746 - accuracy: 0.8324 - val_loss: 0.5934 - val_accuracy: 0.7650\n",
      "Epoch 16/25\n",
      "22/22 [==============================] - 19s 828ms/step - loss: 0.3438 - accuracy: 0.8338 - val_loss: 0.6483 - val_accuracy: 0.7700\n",
      "Epoch 17/25\n",
      "22/22 [==============================] - 18s 808ms/step - loss: 0.3407 - accuracy: 0.8497 - val_loss: 0.6526 - val_accuracy: 0.7650\n",
      "Epoch 18/25\n",
      "22/22 [==============================] - 28s 1s/step - loss: 0.2891 - accuracy: 0.8699 - val_loss: 0.5719 - val_accuracy: 0.7850\n",
      "Epoch 19/25\n",
      "22/22 [==============================] - 31s 1s/step - loss: 0.2903 - accuracy: 0.8728 - val_loss: 0.6591 - val_accuracy: 0.7400\n",
      "Epoch 20/25\n",
      "22/22 [==============================] - 31s 1s/step - loss: 0.2398 - accuracy: 0.9075 - val_loss: 0.6708 - val_accuracy: 0.7650\n",
      "Epoch 21/25\n",
      "22/22 [==============================] - 31s 1s/step - loss: 0.2862 - accuracy: 0.8728 - val_loss: 0.6426 - val_accuracy: 0.8000\n",
      "Epoch 22/25\n",
      "22/22 [==============================] - 31s 1s/step - loss: 0.2697 - accuracy: 0.8815 - val_loss: 0.5833 - val_accuracy: 0.7950\n",
      "Epoch 23/25\n",
      "22/22 [==============================] - 32s 1s/step - loss: 0.2550 - accuracy: 0.9118 - val_loss: 0.7552 - val_accuracy: 0.7300\n",
      "Epoch 24/25\n",
      "22/22 [==============================] - 31s 1s/step - loss: 0.2133 - accuracy: 0.9220 - val_loss: 0.7574 - val_accuracy: 0.7550\n",
      "Epoch 25/25\n",
      "22/22 [==============================] - 30s 1s/step - loss: 0.2235 - accuracy: 0.9061 - val_loss: 0.7153 - val_accuracy: 0.7700\n"
     ]
    },
    {
     "data": {
      "text/plain": [
       "<keras.callbacks.History at 0x1ddef3f9640>"
      ]
     },
     "execution_count": 13,
     "metadata": {},
     "output_type": "execute_result"
    }
   ],
   "source": [
    "cnn.fit(x = training_set, validation_data = test_set, epochs = 25)"
   ]
  },
  {
   "cell_type": "markdown",
   "metadata": {
    "id": "U3PZasO0006Z"
   },
   "source": [
    "## Part 4 - Making a single prediction"
   ]
  },
  {
   "cell_type": "code",
   "execution_count": 16,
   "metadata": {
    "id": "gsSiWEJY1BPB"
   },
   "outputs": [
    {
     "name": "stdout",
     "output_type": "stream",
     "text": [
      "Alien\n"
     ]
    }
   ],
   "source": [
    "import numpy as np\n",
    "from keras.preprocessing import image\n",
    "test_image = image.load_img('F:/study matrials/2022/Convolution Neural Network/CNN Projects/CNN Binary Classification/Alien vs Predator/dataset/sample/346.jpg', target_size = (150, 150))\n",
    "test_image = image.img_to_array(test_image)\n",
    "test_image = np.expand_dims(test_image, axis = 0)\n",
    "result = cnn.predict(test_image)\n",
    "#print(training_set.class_indices)\n",
    "#print(result)\n",
    "if result[0][0] == 1:\n",
    "  prediction = 'Predator'\n",
    "else:\n",
    "  prediction = 'Alien'\n",
    "print(prediction)"
   ]
  },
  {
   "cell_type": "code",
   "execution_count": null,
   "metadata": {},
   "outputs": [],
   "source": []
  }
 ],
 "metadata": {
  "accelerator": "GPU",
  "colab": {
   "collapsed_sections": [],
   "name": "Cat or Dog classification using CNN.ipynb",
   "provenance": []
  },
  "kernelspec": {
   "display_name": "Python 3 (ipykernel)",
   "language": "python",
   "name": "python3"
  },
  "language_info": {
   "codemirror_mode": {
    "name": "ipython",
    "version": 3
   },
   "file_extension": ".py",
   "mimetype": "text/x-python",
   "name": "python",
   "nbconvert_exporter": "python",
   "pygments_lexer": "ipython3",
   "version": "3.9.7"
  }
 },
 "nbformat": 4,
 "nbformat_minor": 1
}
