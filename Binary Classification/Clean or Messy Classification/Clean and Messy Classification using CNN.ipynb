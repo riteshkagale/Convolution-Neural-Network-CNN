{
 "cells": [
  {
   "cell_type": "markdown",
   "metadata": {
    "id": "3DR-eO17geWu"
   },
   "source": [
    "# Convolutional Neural Network"
   ]
  },
  {
   "cell_type": "markdown",
   "metadata": {
    "id": "EMefrVPCg-60"
   },
   "source": [
    "### Importing the libraries"
   ]
  },
  {
   "cell_type": "code",
   "execution_count": 26,
   "metadata": {
    "id": "sCV30xyVhFbE"
   },
   "outputs": [],
   "source": [
    "import tensorflow as tf\n",
    "from keras.preprocessing.image import ImageDataGenerator"
   ]
  },
  {
   "cell_type": "code",
   "execution_count": 27,
   "metadata": {
    "colab": {
     "base_uri": "https://localhost:8080/",
     "height": 35
    },
    "executionInfo": {
     "elapsed": 8,
     "status": "ok",
     "timestamp": 1645432931917,
     "user": {
      "displayName": "ritesh kagale",
      "photoUrl": "https://lh3.googleusercontent.com/a-/AOh14GiUE0PpLBQEM5krVmODNfA-dkFMCloyFDWUW4oxlw=s64",
      "userId": "13718708720698209660"
     },
     "user_tz": -330
    },
    "id": "FIleuCAjoFD8",
    "outputId": "8e1f84f9-1afc-4be7-f11d-fe7cb27c793a"
   },
   "outputs": [
    {
     "data": {
      "text/plain": [
       "'2.8.0'"
      ]
     },
     "execution_count": 27,
     "metadata": {},
     "output_type": "execute_result"
    }
   ],
   "source": [
    "tf.__version__"
   ]
  },
  {
   "cell_type": "markdown",
   "metadata": {
    "id": "oxQxCBWyoGPE"
   },
   "source": [
    "## Part 1 - Data Preprocessing"
   ]
  },
  {
   "cell_type": "markdown",
   "metadata": {
    "id": "MvE-heJNo3GG"
   },
   "source": [
    "### Preprocessing the Training set"
   ]
  },
  {
   "cell_type": "code",
   "execution_count": 28,
   "metadata": {
    "colab": {
     "base_uri": "https://localhost:8080/"
    },
    "executionInfo": {
     "elapsed": 25749,
     "status": "ok",
     "timestamp": 1645432985656,
     "user": {
      "displayName": "ritesh kagale",
      "photoUrl": "https://lh3.googleusercontent.com/a-/AOh14GiUE0PpLBQEM5krVmODNfA-dkFMCloyFDWUW4oxlw=s64",
      "userId": "13718708720698209660"
     },
     "user_tz": -330
    },
    "id": "0koUcJMJpEBD",
    "outputId": "35a56795-e8ac-4662-8369-e0d404809393"
   },
   "outputs": [
    {
     "name": "stdout",
     "output_type": "stream",
     "text": [
      "Found 192 images belonging to 2 classes.\n"
     ]
    }
   ],
   "source": [
    "train_datagen = ImageDataGenerator(rescale = 1./255,\n",
    "                                   shear_range = 0.2,\n",
    "                                   zoom_range = 0.2,\n",
    "                                   horizontal_flip = True)\n",
    "training_set = train_datagen.flow_from_directory('F:/study matrials/2022/Convolution Neural Network/CNN Projects/CNN Binary Classification/Binary Classification/Clean or Messy Classification/dataset/train',\n",
    "                                                 target_size = (150, 150),\n",
    "                                                 batch_size = 32,\n",
    "                                                 class_mode = 'binary')"
   ]
  },
  {
   "cell_type": "code",
   "execution_count": 29,
   "metadata": {},
   "outputs": [
    {
     "data": {
      "text/plain": [
       "{'clean': 0, 'messy': 1}"
      ]
     },
     "execution_count": 29,
     "metadata": {},
     "output_type": "execute_result"
    }
   ],
   "source": [
    "training_set.class_indices"
   ]
  },
  {
   "cell_type": "markdown",
   "metadata": {
    "id": "mrCMmGw9pHys"
   },
   "source": [
    "### Preprocessing the Test set"
   ]
  },
  {
   "cell_type": "code",
   "execution_count": 30,
   "metadata": {
    "colab": {
     "base_uri": "https://localhost:8080/"
    },
    "executionInfo": {
     "elapsed": 6980,
     "status": "ok",
     "timestamp": 1645433005779,
     "user": {
      "displayName": "ritesh kagale",
      "photoUrl": "https://lh3.googleusercontent.com/a-/AOh14GiUE0PpLBQEM5krVmODNfA-dkFMCloyFDWUW4oxlw=s64",
      "userId": "13718708720698209660"
     },
     "user_tz": -330
    },
    "id": "SH4WzfOhpKc3",
    "outputId": "05070e51-4deb-4108-fb56-09f6942c6fca"
   },
   "outputs": [
    {
     "name": "stdout",
     "output_type": "stream",
     "text": [
      "Found 20 images belonging to 2 classes.\n"
     ]
    }
   ],
   "source": [
    "test_datagen = ImageDataGenerator(rescale = 1./255)\n",
    "test_set = test_datagen.flow_from_directory('F:/study matrials/2022/Convolution Neural Network/CNN Projects/CNN Binary Classification/Binary Classification/Clean or Messy Classification/dataset/val/',\n",
    "                                            target_size = (150,150),\n",
    "                                            batch_size = 32,\n",
    "                                            class_mode = 'binary')"
   ]
  },
  {
   "cell_type": "markdown",
   "metadata": {
    "id": "af8O4l90gk7B"
   },
   "source": [
    "## Part 2 - Building the CNN"
   ]
  },
  {
   "cell_type": "markdown",
   "metadata": {
    "id": "ces1gXY2lmoX"
   },
   "source": [
    "### Initialising the CNN"
   ]
  },
  {
   "cell_type": "code",
   "execution_count": 31,
   "metadata": {
    "id": "SAUt4UMPlhLS"
   },
   "outputs": [],
   "source": [
    "cnn = tf.keras.models.Sequential()"
   ]
  },
  {
   "cell_type": "markdown",
   "metadata": {
    "id": "u5YJj_XMl5LF"
   },
   "source": [
    "### Step 1 - Convolution"
   ]
  },
  {
   "cell_type": "code",
   "execution_count": 32,
   "metadata": {
    "id": "XPzPrMckl-hV"
   },
   "outputs": [],
   "source": [
    "cnn.add(tf.keras.layers.Conv2D(filters=32, kernel_size=3, activation='relu', input_shape=[150, 150, 3]))"
   ]
  },
  {
   "cell_type": "markdown",
   "metadata": {
    "id": "tf87FpvxmNOJ"
   },
   "source": [
    "### Step 2 - Pooling"
   ]
  },
  {
   "cell_type": "code",
   "execution_count": 33,
   "metadata": {
    "id": "ncpqPl69mOac"
   },
   "outputs": [],
   "source": [
    "cnn.add(tf.keras.layers.MaxPool2D(pool_size=2, strides=2))"
   ]
  },
  {
   "cell_type": "markdown",
   "metadata": {
    "id": "xaTOgD8rm4mU"
   },
   "source": [
    "### Adding a second convolutional layer"
   ]
  },
  {
   "cell_type": "code",
   "execution_count": 34,
   "metadata": {
    "id": "i_-FZjn_m8gk"
   },
   "outputs": [],
   "source": [
    "cnn.add(tf.keras.layers.Conv2D(filters=32, kernel_size=3, activation='relu'))\n",
    "cnn.add(tf.keras.layers.MaxPool2D(pool_size=2, strides=2))"
   ]
  },
  {
   "cell_type": "markdown",
   "metadata": {
    "id": "tmiEuvTunKfk"
   },
   "source": [
    "### Step 3 - Flattening"
   ]
  },
  {
   "cell_type": "code",
   "execution_count": 35,
   "metadata": {
    "id": "6AZeOGCvnNZn"
   },
   "outputs": [],
   "source": [
    "cnn.add(tf.keras.layers.Flatten())"
   ]
  },
  {
   "cell_type": "markdown",
   "metadata": {
    "id": "dAoSECOm203v"
   },
   "source": [
    "### Step 4 - Full Connection"
   ]
  },
  {
   "cell_type": "code",
   "execution_count": 36,
   "metadata": {
    "id": "8GtmUlLd26Nq"
   },
   "outputs": [],
   "source": [
    "cnn.add(tf.keras.layers.Dense(units=128, activation='relu'))"
   ]
  },
  {
   "cell_type": "markdown",
   "metadata": {
    "id": "yTldFvbX28Na"
   },
   "source": [
    "### Step 5 - Output Layer"
   ]
  },
  {
   "cell_type": "code",
   "execution_count": 37,
   "metadata": {
    "id": "1p_Zj1Mc3Ko_"
   },
   "outputs": [],
   "source": [
    "cnn.add(tf.keras.layers.Dense(units=1, activation='sigmoid'))"
   ]
  },
  {
   "cell_type": "markdown",
   "metadata": {
    "id": "D6XkI90snSDl"
   },
   "source": [
    "## Part 3 - Training the CNN"
   ]
  },
  {
   "cell_type": "markdown",
   "metadata": {
    "id": "vfrFQACEnc6i"
   },
   "source": [
    "### Compiling the CNN"
   ]
  },
  {
   "cell_type": "code",
   "execution_count": 38,
   "metadata": {
    "id": "NALksrNQpUlJ"
   },
   "outputs": [],
   "source": [
    "cnn.compile(optimizer = 'adam', loss = 'binary_crossentropy', metrics = ['accuracy'])"
   ]
  },
  {
   "cell_type": "markdown",
   "metadata": {
    "id": "ehS-v3MIpX2h"
   },
   "source": [
    "### Training the CNN on the Training set and evaluating it on the Test set"
   ]
  },
  {
   "cell_type": "code",
   "execution_count": 39,
   "metadata": {
    "colab": {
     "base_uri": "https://localhost:8080/"
    },
    "executionInfo": {
     "elapsed": 1963656,
     "status": "ok",
     "timestamp": 1645435733100,
     "user": {
      "displayName": "ritesh kagale",
      "photoUrl": "https://lh3.googleusercontent.com/a-/AOh14GiUE0PpLBQEM5krVmODNfA-dkFMCloyFDWUW4oxlw=s64",
      "userId": "13718708720698209660"
     },
     "user_tz": -330
    },
    "id": "XUj1W4PJptta",
    "outputId": "6c6cd5ee-b48c-4112-a464-4717a119eb59"
   },
   "outputs": [
    {
     "name": "stdout",
     "output_type": "stream",
     "text": [
      "Epoch 1/25\n",
      "6/6 [==============================] - 7s 1s/step - loss: 1.1661 - accuracy: 0.5365 - val_loss: 0.7123 - val_accuracy: 0.5000\n",
      "Epoch 2/25\n",
      "6/6 [==============================] - 7s 1s/step - loss: 0.6611 - accuracy: 0.5000 - val_loss: 0.6613 - val_accuracy: 0.5000\n",
      "Epoch 3/25\n",
      "6/6 [==============================] - 6s 982ms/step - loss: 0.6319 - accuracy: 0.5000 - val_loss: 0.6329 - val_accuracy: 0.5500\n",
      "Epoch 4/25\n",
      "6/6 [==============================] - 5s 863ms/step - loss: 0.6063 - accuracy: 0.5052 - val_loss: 0.6320 - val_accuracy: 0.5500\n",
      "Epoch 5/25\n",
      "6/6 [==============================] - 6s 977ms/step - loss: 0.5958 - accuracy: 0.5625 - val_loss: 0.6239 - val_accuracy: 0.5500\n",
      "Epoch 6/25\n",
      "6/6 [==============================] - 6s 940ms/step - loss: 0.5847 - accuracy: 0.6458 - val_loss: 0.5962 - val_accuracy: 0.6500\n",
      "Epoch 7/25\n",
      "6/6 [==============================] - 6s 951ms/step - loss: 0.5701 - accuracy: 0.6823 - val_loss: 0.5908 - val_accuracy: 0.6500\n",
      "Epoch 8/25\n",
      "6/6 [==============================] - 6s 989ms/step - loss: 0.5353 - accuracy: 0.7708 - val_loss: 0.6639 - val_accuracy: 0.6000\n",
      "Epoch 9/25\n",
      "6/6 [==============================] - 7s 1s/step - loss: 0.5260 - accuracy: 0.7344 - val_loss: 0.7249 - val_accuracy: 0.6000\n",
      "Epoch 10/25\n",
      "6/6 [==============================] - 7s 1s/step - loss: 0.4260 - accuracy: 0.7917 - val_loss: 0.3245 - val_accuracy: 0.8500\n",
      "Epoch 11/25\n",
      "6/6 [==============================] - 6s 1s/step - loss: 0.3918 - accuracy: 0.8281 - val_loss: 0.3720 - val_accuracy: 0.8500\n",
      "Epoch 12/25\n",
      "6/6 [==============================] - 6s 928ms/step - loss: 0.3739 - accuracy: 0.8333 - val_loss: 0.3712 - val_accuracy: 0.8000\n",
      "Epoch 13/25\n",
      "6/6 [==============================] - 6s 983ms/step - loss: 0.2886 - accuracy: 0.8958 - val_loss: 0.5123 - val_accuracy: 0.7500\n",
      "Epoch 14/25\n",
      "6/6 [==============================] - 6s 941ms/step - loss: 0.3651 - accuracy: 0.8125 - val_loss: 0.4524 - val_accuracy: 0.7500\n",
      "Epoch 15/25\n",
      "6/6 [==============================] - 6s 935ms/step - loss: 0.2822 - accuracy: 0.8646 - val_loss: 0.8079 - val_accuracy: 0.7000\n",
      "Epoch 16/25\n",
      "6/6 [==============================] - 6s 936ms/step - loss: 0.2612 - accuracy: 0.9010 - val_loss: 0.3516 - val_accuracy: 0.8000\n",
      "Epoch 17/25\n",
      "6/6 [==============================] - 6s 909ms/step - loss: 0.2873 - accuracy: 0.8750 - val_loss: 0.4727 - val_accuracy: 0.8500\n",
      "Epoch 18/25\n",
      "6/6 [==============================] - 6s 908ms/step - loss: 0.2110 - accuracy: 0.9271 - val_loss: 0.5521 - val_accuracy: 0.7500\n",
      "Epoch 19/25\n",
      "6/6 [==============================] - 5s 870ms/step - loss: 0.1976 - accuracy: 0.9375 - val_loss: 0.3963 - val_accuracy: 0.7500\n",
      "Epoch 20/25\n",
      "6/6 [==============================] - 6s 1s/step - loss: 0.1843 - accuracy: 0.9427 - val_loss: 0.3439 - val_accuracy: 0.8000\n",
      "Epoch 21/25\n",
      "6/6 [==============================] - 6s 913ms/step - loss: 0.1623 - accuracy: 0.9427 - val_loss: 0.3457 - val_accuracy: 0.8000\n",
      "Epoch 22/25\n",
      "6/6 [==============================] - 6s 1s/step - loss: 0.1722 - accuracy: 0.9323 - val_loss: 0.3191 - val_accuracy: 0.8500\n",
      "Epoch 23/25\n",
      "6/6 [==============================] - 6s 942ms/step - loss: 0.1791 - accuracy: 0.9219 - val_loss: 0.4626 - val_accuracy: 0.8500\n",
      "Epoch 24/25\n",
      "6/6 [==============================] - 6s 911ms/step - loss: 0.1530 - accuracy: 0.9427 - val_loss: 0.6619 - val_accuracy: 0.8000\n",
      "Epoch 25/25\n",
      "6/6 [==============================] - 6s 952ms/step - loss: 0.1267 - accuracy: 0.9583 - val_loss: 0.3341 - val_accuracy: 0.8000\n"
     ]
    },
    {
     "data": {
      "text/plain": [
       "<keras.callbacks.History at 0x1d46e4c82b0>"
      ]
     },
     "execution_count": 39,
     "metadata": {},
     "output_type": "execute_result"
    }
   ],
   "source": [
    "cnn.fit(x = training_set, validation_data = test_set, epochs = 25)"
   ]
  },
  {
   "cell_type": "markdown",
   "metadata": {
    "id": "U3PZasO0006Z"
   },
   "source": [
    "## Part 4 - Making a single prediction"
   ]
  },
  {
   "cell_type": "code",
   "execution_count": 43,
   "metadata": {
    "id": "gsSiWEJY1BPB"
   },
   "outputs": [
    {
     "name": "stdout",
     "output_type": "stream",
     "text": [
      "{'clean': 0, 'messy': 1}\n",
      "[[0.]]\n",
      "Clean Room\n"
     ]
    }
   ],
   "source": [
    "import numpy as np\n",
    "from keras.preprocessing import image\n",
    "test_image = image.load_img('F:/study matrials/2022/Convolution Neural Network/CNN Projects/CNN Binary Classification/Binary Classification/Clean or Messy Classification/dataset/samples/5.png', target_size = (150,150))\n",
    "test_image = image.img_to_array(test_image)\n",
    "test_image = np.expand_dims(test_image, axis = 0)\n",
    "result = cnn.predict(test_image)\n",
    "print(training_set.class_indices)\n",
    "print(result)\n",
    "if result[0][0] == 1:\n",
    "  prediction = 'Messy Room'\n",
    "else:\n",
    "  prediction = 'Clean Room'\n",
    "print(prediction)"
   ]
  },
  {
   "cell_type": "code",
   "execution_count": null,
   "metadata": {},
   "outputs": [],
   "source": []
  }
 ],
 "metadata": {
  "accelerator": "GPU",
  "colab": {
   "collapsed_sections": [],
   "name": "Cat or Dog classification using CNN.ipynb",
   "provenance": []
  },
  "kernelspec": {
   "display_name": "Python 3 (ipykernel)",
   "language": "python",
   "name": "python3"
  },
  "language_info": {
   "codemirror_mode": {
    "name": "ipython",
    "version": 3
   },
   "file_extension": ".py",
   "mimetype": "text/x-python",
   "name": "python",
   "nbconvert_exporter": "python",
   "pygments_lexer": "ipython3",
   "version": "3.9.7"
  }
 },
 "nbformat": 4,
 "nbformat_minor": 1
}
